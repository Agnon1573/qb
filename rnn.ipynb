{
 "cells": [
  {
   "cell_type": "code",
   "execution_count": 1,
   "metadata": {
    "collapsed": false
   },
   "outputs": [
    {
     "name": "stderr",
     "output_type": "stream",
     "text": [
      "ERROR (theano.gpuarray): pygpu was configured but could not be imported or is too old (version 0.6 or higher required)\n",
      "NoneType: None\n",
      "/home/airsplay/anaconda3/lib/python3.6/site-packages/sklearn/cross_validation.py:44: DeprecationWarning: This module was deprecated in version 0.18 in favor of the model_selection module into which all the refactored classes and functions are moved. Also note that the interface of the new CV iterators are different from that of this module. This module will be removed in 0.20.\n",
      "  \"This module will be removed in 0.20.\", DeprecationWarning)\n"
     ]
    }
   ],
   "source": [
    "import os\n",
    "import os\n",
    "import sys\n",
    "import random\n",
    "import numpy as np\n",
    "import argparse\n",
    "import chainer\n",
    "import pickle\n",
    "from typing import List, Dict, Tuple, Optional\n",
    "\n",
    "from qanta import logging\n",
    "from qanta.config import conf\n",
    "from qanta.guesser.abstract import AbstractGuesser\n",
    "\n",
    "from qanta.buzzer import configs\n",
    "from qanta.buzzer.progress import ProgressBar\n",
    "from qanta.buzzer.trainer import Trainer\n",
    "from qanta.buzzer.iterator import QuestionIterator\n",
    "from qanta.buzzer.util import load_quizbowl, GUESSERS\n",
    "from qanta.buzzer.models import MLP, RNN\n",
    "from qanta.buzzer import constants as bc\n",
    "from qanta.util import constants as c\n",
    "\n",
    "\n",
    "log = logging.get(__name__)\n",
    "\n",
    "N_GUESSERS = len(GUESSERS)\n",
    "N_GUESSES = conf['buzzer']['n_guesses']"
   ]
  },
  {
   "cell_type": "code",
   "execution_count": 3,
   "metadata": {
    "collapsed": false
   },
   "outputs": [
    {
     "name": "stderr",
     "output_type": "stream",
     "text": [
      "2017-05-26 09:12:05,053 - qanta.buzzer.util - INFO - Merging guesser DataFrames.\n",
      "2017-05-26 09:12:05,055 - qanta.buzzer.util - INFO - Merged buzzertrain exists, skipping.\n",
      "2017-05-26 09:12:05,056 - qanta.buzzer.util - INFO - Merged buzzerdev exists, skipping.\n",
      "2017-05-26 09:12:05,059 - qanta.buzzer.util - INFO - Merged dev exists, skipping.\n",
      "2017-05-26 09:12:05,061 - qanta.buzzer.util - INFO - Merged test exists, skipping.\n",
      "2017-05-26 09:12:05,063 - qanta.buzzer.util - INFO - Merged expo exists, skipping.\n",
      "2017-05-26 09:12:05,064 - qanta.buzzer.util - INFO - Loading data\n",
      "2017-05-26 09:12:05,068 - qanta.datasets.quiz_bowl - WARNING - Using QuizBowlDataset with guesser and buzzer training data, make sure you know what you are doing!\n",
      "2017-05-26 09:12:09,739 - qanta.buzzer.util - INFO - Number of options 8247\n",
      "2017-05-26 09:12:33,882 - qanta.buzzer.util - INFO - Loading buzzertrain guesses\n",
      "2017-05-26 09:12:42,507 - qanta.buzzer.util - INFO - Loading buzzerdev guesses\n",
      "2017-05-26 09:12:43,829 - qanta.buzzer.util - INFO - Loading dev guesses\n",
      "2017-05-26 09:12:46,156 - qanta.buzzer.util - INFO - Loading test guesses\n",
      "2017-05-26 09:12:46,180 - qanta.buzzer.util - INFO - Loading expo guesses\n",
      "2017-05-26 09:12:46,357 - qanta.buzzer.iterator - INFO - Creating batches\n",
      "[creat batches] (1) done: 23210/23211\n",
      "2017-05-26 09:23:06,716 - qanta.buzzer.iterator - INFO - Finish creating batches\n",
      "2017-05-26 09:23:06,717 - qanta.buzzer.iterator - INFO - Creating batches\n",
      "[creat batches] (1) done: 7586/7587\n",
      "2017-05-26 09:26:25,196 - qanta.buzzer.iterator - INFO - Finish creating batches\n",
      "2017-05-26 09:26:25,197 - qanta.buzzer.iterator - INFO - Creating batches\n",
      "[creat batches] (1) done: 2088/2089\n",
      "2017-05-26 09:27:12,974 - qanta.buzzer.iterator - INFO - Finish creating batches\n",
      "2017-05-26 09:27:12,975 - qanta.buzzer.iterator - INFO - Creating batches\n",
      "[creat batches] (1) done: 1411/1412\n",
      "2017-05-26 09:27:49,506 - qanta.buzzer.iterator - INFO - Finish creating batches\n",
      "2017-05-26 09:27:49,561 - qanta.buzzer.iterator - INFO - Creating batches\n",
      "[creat batches] (1) done: 68/69\n",
      "2017-05-26 09:27:52,224 - qanta.buzzer.iterator - INFO - Finish creating batches\n"
     ]
    }
   ],
   "source": [
    "def dense_vector(dicts: List[List[Dict[str, float]]],\n",
    "        wordvecs: List[List[np.ndarray]], step_size=1) -> List[List[float]]:\n",
    "\n",
    "    length = len(dicts)\n",
    "    prev_vec = [0.02 for _ in range(N_GUESSERS * N_GUESSES)]\n",
    "    vecs = []\n",
    "    for i in range(length):\n",
    "        if len(dicts[i]) != N_GUESSERS:\n",
    "            raise ValueError(\"Inconsistent number of guessers ({0}, {1}).\".format(\n",
    "                N_GUESSERS, len(dicts)))\n",
    "        vec = []\n",
    "        diff_vec = []\n",
    "        isnew_vec = []\n",
    "        for j in range(N_GUESSERS):\n",
    "            dic = sorted(dicts[i][j].items(), key=lambda x: x[1], reverse=True)\n",
    "            for guess, score in dic:\n",
    "                vec.append(score)\n",
    "                if i > 0 and guess in dicts[i-1][j]:\n",
    "                    diff_vec.append(score - dicts[i-1][j][guess])\n",
    "                    isnew_vec.append(0)\n",
    "                else:\n",
    "                    diff_vec.append(score) \n",
    "                    isnew_vec.append(1)\n",
    "            if len(dic) < N_GUESSES:\n",
    "                for k in range(max(N_GUESSES - len(dic), 0)):\n",
    "                    vec.append(0)\n",
    "                    diff_vec.append(0)\n",
    "                    isnew_vec.append(0)\n",
    "        features = [vec[0], vec[1], vec[2],\n",
    "                    np.average(vec[:10]), np.average(prev_vec[:10]),\n",
    "                    np.var(vec[:10]), np.var(prev_vec[:10]),\n",
    "                    sum(isnew_vec[:10]),\n",
    "                    isnew_vec[0], isnew_vec[1], isnew_vec[2],\n",
    "                    diff_vec[0], diff_vec[1],\n",
    "                    vec[0] - vec[1], vec[1] - vec[2], \n",
    "                    vec[0] / vec[1], vec[0] / prev_vec[0],\n",
    "                    vec[0] - prev_vec[0], vec[1] - prev_vec[1]\n",
    "                    ]\n",
    "\n",
    "        vecs.append(features)\n",
    "        prev_vec = vec\n",
    "    return vecs\n",
    "\n",
    "option2id, all_guesses = load_quizbowl()\n",
    "iterators = dict()\n",
    "for fold in c.BUZZER_INPUT_FOLDS:\n",
    "    iterators[fold] = QuestionIterator(all_guesses[fold], option2id,\n",
    "        batch_size=128, make_vector=dense_vector)"
   ]
  },
  {
   "cell_type": "code",
   "execution_count": 1,
   "metadata": {
    "collapsed": false
   },
   "outputs": [
    {
     "ename": "NameError",
     "evalue": "name 'configs' is not defined",
     "output_type": "error",
     "traceback": [
      "\u001b[0;31m---------------------------------------------------------------------------\u001b[0m",
      "\u001b[0;31mNameError\u001b[0m                                 Traceback (most recent call last)",
      "\u001b[0;32m<ipython-input-1-fdd5f52117a4>\u001b[0m in \u001b[0;36m<module>\u001b[0;34m()\u001b[0m\n\u001b[1;32m      1\u001b[0m \u001b[0;32mfor\u001b[0m \u001b[0mn_hidden\u001b[0m \u001b[0;32min\u001b[0m \u001b[0;34m[\u001b[0m\u001b[0;36m300\u001b[0m\u001b[0;34m]\u001b[0m\u001b[0;34m:\u001b[0m\u001b[0;34m\u001b[0m\u001b[0m\n\u001b[0;32m----> 2\u001b[0;31m     \u001b[0mcfg\u001b[0m \u001b[0;34m=\u001b[0m \u001b[0mconfigs\u001b[0m\u001b[0;34m.\u001b[0m\u001b[0mrnn\u001b[0m\u001b[0;34m(\u001b[0m\u001b[0;34m)\u001b[0m\u001b[0;34m\u001b[0m\u001b[0m\n\u001b[0m\u001b[1;32m      3\u001b[0m     \u001b[0mcfg\u001b[0m\u001b[0;34m.\u001b[0m\u001b[0mn_hidden\u001b[0m \u001b[0;34m=\u001b[0m \u001b[0mn_hidden\u001b[0m\u001b[0;34m\u001b[0m\u001b[0m\n\u001b[1;32m      4\u001b[0m     \u001b[0mcfg\u001b[0m\u001b[0;34m.\u001b[0m\u001b[0mmodel_name\u001b[0m \u001b[0;34m=\u001b[0m \u001b[0;34m'rnn_{}'\u001b[0m\u001b[0;34m.\u001b[0m\u001b[0mformat\u001b[0m\u001b[0;34m(\u001b[0m\u001b[0mn_hidden\u001b[0m\u001b[0;34m)\u001b[0m\u001b[0;34m\u001b[0m\u001b[0m\n\u001b[1;32m      5\u001b[0m     \u001b[0mcfg\u001b[0m\u001b[0;34m.\u001b[0m\u001b[0mmodel_dir\u001b[0m \u001b[0;34m=\u001b[0m \u001b[0;34m'output/buzzer/{}.npz'\u001b[0m\u001b[0;34m.\u001b[0m\u001b[0mformat\u001b[0m\u001b[0;34m(\u001b[0m\u001b[0mcfg\u001b[0m\u001b[0;34m.\u001b[0m\u001b[0mmodel_name\u001b[0m\u001b[0;34m)\u001b[0m\u001b[0;34m\u001b[0m\u001b[0m\n",
      "\u001b[0;31mNameError\u001b[0m: name 'configs' is not defined"
     ]
    }
   ],
   "source": [
    "for n_hidden in [300]:\n",
    "    cfg = configs.rnn()\n",
    "    cfg.n_hidden = n_hidden\n",
    "    cfg.model_name = 'rnn_{}'.format(n_hidden)\n",
    "    cfg.model_dir = 'output/buzzer/{}.npz'.format(cfg.model_name)\n",
    "\n",
    "    model = RNN(iterators[c.BUZZER_TRAIN_FOLD].n_input, cfg.n_hidden, N_GUESSERS + 1)\n",
    "    chainer.cuda.get_device(0).use()\n",
    "    model.to_gpu(0)\n",
    "\n",
    "    trainer = Trainer(model, cfg.model_dir)\n",
    "    trainer.run(iterators[c.BUZZER_TRAIN_FOLD], iterators[c.BUZZER_DEV_FOLD], 25)\n",
    "\n",
    "    for fold in c.BUZZER_GENERATION_FOLDS:\n",
    "        test_iter = iterators[fold]\n",
    "        buzzes = trainer.test(test_iter)\n",
    "        log.info('{0} buzzes generated. Size {1}.'.format(fold, len(buzzes)))\n",
    "        buzzes_dir = bc.BUZZES_DIR.format(fold, cfg.model_name)\n",
    "        with open(buzzes_dir, 'wb') as outfile:\n",
    "            pickle.dump(buzzes, outfile)\n",
    "        log.info('Buzzes saved to {0}.'.format(buzzes_dir))"
   ]
  }
 ],
 "metadata": {
  "kernelspec": {
   "display_name": "Python 3",
   "language": "python",
   "name": "python3"
  },
  "language_info": {
   "codemirror_mode": {
    "name": "ipython",
    "version": 3
   },
   "file_extension": ".py",
   "mimetype": "text/x-python",
   "name": "python",
   "nbconvert_exporter": "python",
   "pygments_lexer": "ipython3",
   "version": "3.6.0"
  }
 },
 "nbformat": 4,
 "nbformat_minor": 2
}
