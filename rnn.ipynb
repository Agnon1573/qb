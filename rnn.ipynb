{
 "cells": [
  {
   "cell_type": "code",
   "execution_count": 1,
   "metadata": {
    "collapsed": false
   },
   "outputs": [
    {
     "name": "stderr",
     "output_type": "stream",
     "text": [
      "ERROR (theano.gpuarray): pygpu was configured but could not be imported or is too old (version 0.6 or higher required)\n",
      "NoneType: None\n",
      "/home/airsplay/anaconda3/lib/python3.6/site-packages/sklearn/cross_validation.py:44: DeprecationWarning: This module was deprecated in version 0.18 in favor of the model_selection module into which all the refactored classes and functions are moved. Also note that the interface of the new CV iterators are different from that of this module. This module will be removed in 0.20.\n",
      "  \"This module will be removed in 0.20.\", DeprecationWarning)\n"
     ]
    }
   ],
   "source": [
    "import os\n",
    "import os\n",
    "import sys\n",
    "import random\n",
    "import numpy as np\n",
    "import argparse\n",
    "import chainer\n",
    "import pickle\n",
    "from typing import List, Dict, Tuple, Optional\n",
    "\n",
    "from qanta import logging\n",
    "from qanta.config import conf\n",
    "from qanta.guesser.abstract import AbstractGuesser\n",
    "\n",
    "from qanta.buzzer import configs\n",
    "from qanta.buzzer.progress import ProgressBar\n",
    "from qanta.buzzer.trainer import Trainer\n",
    "from qanta.buzzer.iterator import QuestionIterator\n",
    "from qanta.buzzer.util import load_quizbowl, GUESSERS\n",
    "from qanta.buzzer.models import MLP, RNN\n",
    "from qanta.buzzer import constants as bc\n",
    "from qanta.util import constants as c\n",
    "\n",
    "\n",
    "log = logging.get(__name__)\n",
    "\n",
    "N_GUESSERS = len(GUESSERS)\n",
    "N_GUESSES = conf['buzzer']['n_guesses']"
   ]
  },
  {
   "cell_type": "code",
   "execution_count": 2,
   "metadata": {
    "collapsed": false
   },
   "outputs": [],
   "source": [
    "def new_dense_vector(dicts: List[List[Dict[str, float]]],\n",
    "        wordvecs: List[List[np.ndarray]], step_size=1) -> List[List[float]]:\n",
    "\n",
    "    length = len(dicts)\n",
    "    prev_vec = [0.02 for _ in range(N_GUESSERS * N_GUESSES)]\n",
    "    vecs = []\n",
    "    for i in range(length):\n",
    "        if len(dicts[i]) != N_GUESSERS:\n",
    "            raise ValueError(\"Inconsistent number of guessers ({0}, {1}).\".format(\n",
    "                N_GUESSERS, len(dicts)))\n",
    "        vec = []\n",
    "        diff_vec = []\n",
    "        isnew_vec = []\n",
    "        for j in range(N_GUESSERS):\n",
    "            dic = sorted(dicts[i][j].items(), key=lambda x: x[1], reverse=True)\n",
    "            for guess, score in dic:\n",
    "                vec.append(score)\n",
    "                if i > 0 and guess in dicts[i-1][j]:\n",
    "                    diff_vec.append(score - dicts[i-1][j][guess])\n",
    "                    isnew_vec.append(0)\n",
    "                else:\n",
    "                    diff_vec.append(score) \n",
    "                    isnew_vec.append(1)\n",
    "            if len(dic) < N_GUESSES:\n",
    "                for k in range(max(N_GUESSES - len(dic), 0)):\n",
    "                    vec.append(0)\n",
    "                    diff_vec.append(0)\n",
    "                    isnew_vec.append(0)\n",
    "        features = [vec[0], vec[1], vec[2],\n",
    "                    np.average(vec[:10]), np.average(prev_vec[:10]),\n",
    "                    np.var(vec[:10]), np.var(prev_vec[:10]),\n",
    "                    sum(isnew_vec[:10]),\n",
    "                    isnew_vec[0], isnew_vec[1], isnew_vec[2],\n",
    "                    diff_vec[0], diff_vec[1],\n",
    "                    vec[0] - vec[1], vec[1] - vec[2], \n",
    "                    vec[0] / vec[1], vec[0] / prev_vec[0],\n",
    "                    vec[0] - prev_vec[0], vec[1] - prev_vec[1]\n",
    "                    ]\n",
    "\n",
    "        vecs.append(features)\n",
    "        prev_vec = vec\n",
    "    return vecs"
   ]
  },
  {
   "cell_type": "code",
   "execution_count": 3,
   "metadata": {
    "collapsed": false
   },
   "outputs": [
    {
     "name": "stderr",
     "output_type": "stream",
     "text": [
      "2017-05-26 13:18:00,145 - qanta.buzzer.util - INFO - Merging guesser DataFrames.\n",
      "2017-05-26 13:18:00,146 - qanta.buzzer.util - INFO - Merged buzzertrain exists, skipping.\n",
      "2017-05-26 13:18:00,147 - qanta.buzzer.util - INFO - Merged buzzerdev exists, skipping.\n",
      "2017-05-26 13:18:00,148 - qanta.buzzer.util - INFO - Merged dev exists, skipping.\n",
      "2017-05-26 13:18:00,150 - qanta.buzzer.util - INFO - Merged test exists, skipping.\n",
      "2017-05-26 13:18:00,151 - qanta.buzzer.util - INFO - Merged expo exists, skipping.\n",
      "2017-05-26 13:18:00,152 - qanta.buzzer.util - INFO - Loading data\n",
      "2017-05-26 13:18:00,154 - qanta.datasets.quiz_bowl - WARNING - Using QuizBowlDataset with guesser and buzzer training data, make sure you know what you are doing!\n",
      "2017-05-26 13:18:06,976 - qanta.buzzer.util - INFO - Number of options 8247\n",
      "2017-05-26 13:18:27,531 - qanta.buzzer.util - INFO - Loading buzzertrain guesses\n",
      "2017-05-26 13:18:32,471 - qanta.buzzer.util - INFO - Loading buzzerdev guesses\n",
      "2017-05-26 13:18:38,994 - qanta.buzzer.util - INFO - Loading dev guesses\n",
      "2017-05-26 13:18:39,762 - qanta.buzzer.util - INFO - Loading test guesses\n",
      "2017-05-26 13:18:39,778 - qanta.buzzer.util - INFO - Loading expo guesses\n",
      "2017-05-26 13:18:40,023 - qanta.buzzer.iterator - INFO - Creating batches\n",
      "[creat batches] (1) done: 23210/23211\n",
      "2017-05-26 13:26:35,211 - qanta.buzzer.iterator - INFO - Creating batches\n",
      "[creat batches] (1) done: 7586/7587\n",
      "2017-05-26 13:29:14,547 - qanta.buzzer.iterator - INFO - Creating batches\n",
      "[creat batches] (1) done: 2088/2089\n",
      "2017-05-26 13:30:00,000 - qanta.buzzer.iterator - INFO - Creating batches\n",
      "[creat batches] (1) done: 1411/1412\n",
      "2017-05-26 13:30:30,878 - qanta.buzzer.iterator - INFO - Creating batches\n",
      "[creat batches] (1) done: 42/43\n"
     ]
    }
   ],
   "source": [
    "option2id, all_guesses = load_quizbowl(normalize=True)\n",
    "iterators = dict()\n",
    "for fold in c.BUZZER_INPUT_FOLDS:\n",
    "    iterators[fold] = QuestionIterator(all_guesses[fold], option2id,\n",
    "        batch_size=128, make_vector=new_dense_vector)"
   ]
  },
  {
   "cell_type": "code",
   "execution_count": 4,
   "metadata": {
    "collapsed": false
   },
   "outputs": [
    {
     "data": {
      "text/plain": [
       "19"
      ]
     },
     "execution_count": 4,
     "metadata": {},
     "output_type": "execute_result"
    }
   ],
   "source": [
    "iterators['expo'].n_input"
   ]
  },
  {
   "cell_type": "code",
   "execution_count": 5,
   "metadata": {
    "collapsed": false
   },
   "outputs": [
    {
     "name": "stderr",
     "output_type": "stream",
     "text": [
      "2017-05-26 13:30:31,787 - qanta.buzzer.trainer - INFO - epoch 0\n",
      "2017-05-26 13:31:18,785 - qanta.buzzer.trainer - INFO - train loss: nan  acc: 0.56  \n",
      "2017-05-26 13:31:32,194 - qanta.buzzer.trainer - INFO - eval loss: nan  acc: 0.61  \n",
      "2017-05-26 13:31:32,211 - qanta.buzzer.trainer - INFO - epoch 1\n",
      "2017-05-26 13:32:01,036 - qanta.buzzer.trainer - INFO - train loss: nan  acc: 0.55  \n",
      "2017-05-26 13:32:10,760 - qanta.buzzer.trainer - INFO - eval loss: nan  acc: 0.61  \n",
      "2017-05-26 13:32:10,771 - qanta.buzzer.trainer - INFO - epoch 2\n",
      "2017-05-26 13:32:53,690 - qanta.buzzer.trainer - INFO - train loss: nan  acc: 0.55  \n",
      "2017-05-26 13:33:01,315 - qanta.buzzer.trainer - INFO - eval loss: nan  acc: 0.61  \n",
      "2017-05-26 13:33:01,326 - qanta.buzzer.trainer - INFO - epoch 3\n",
      "2017-05-26 13:33:33,181 - qanta.buzzer.trainer - INFO - train loss: nan  acc: 0.55  \n",
      "2017-05-26 13:33:43,310 - qanta.buzzer.trainer - INFO - eval loss: nan  acc: 0.61  \n",
      "2017-05-26 13:33:43,324 - qanta.buzzer.trainer - INFO - epoch 4\n",
      "2017-05-26 13:34:33,864 - qanta.buzzer.trainer - INFO - train loss: nan  acc: 0.55  \n",
      "2017-05-26 13:34:41,516 - qanta.buzzer.trainer - INFO - eval loss: nan  acc: 0.61  \n",
      "2017-05-26 13:34:41,527 - qanta.buzzer.trainer - INFO - epoch 5\n",
      "2017-05-26 13:35:20,247 - qanta.buzzer.trainer - INFO - train loss: nan  acc: 0.55  \n",
      "2017-05-26 13:35:27,034 - qanta.buzzer.trainer - INFO - eval loss: nan  acc: 0.61  \n",
      "2017-05-26 13:35:27,048 - qanta.buzzer.trainer - INFO - epoch 6\n",
      "2017-05-26 13:36:08,099 - qanta.buzzer.trainer - INFO - train loss: nan  acc: 0.55  \n",
      "2017-05-26 13:36:30,843 - qanta.buzzer.trainer - INFO - eval loss: nan  acc: 0.61  \n",
      "2017-05-26 13:36:30,857 - qanta.buzzer.trainer - INFO - epoch 7\n",
      "2017-05-26 13:37:15,452 - qanta.buzzer.trainer - INFO - train loss: nan  acc: 0.55  \n",
      "2017-05-26 13:37:20,652 - qanta.buzzer.trainer - INFO - eval loss: nan  acc: 0.61  \n",
      "2017-05-26 13:37:20,664 - qanta.buzzer.trainer - INFO - epoch 8\n",
      "2017-05-26 13:38:04,129 - qanta.buzzer.trainer - INFO - train loss: nan  acc: 0.55  \n",
      "2017-05-26 13:38:09,308 - qanta.buzzer.trainer - INFO - eval loss: nan  acc: 0.61  \n",
      "2017-05-26 13:38:09,318 - qanta.buzzer.trainer - INFO - epoch 9\n",
      "2017-05-26 13:38:44,532 - qanta.buzzer.trainer - INFO - train loss: nan  acc: 0.55  \n",
      "2017-05-26 13:39:00,090 - qanta.buzzer.trainer - INFO - eval loss: nan  acc: 0.61  \n",
      "2017-05-26 13:39:00,101 - qanta.buzzer.trainer - INFO - epoch 10\n",
      "2017-05-26 13:39:47,432 - qanta.buzzer.trainer - INFO - train loss: nan  acc: 0.55  \n",
      "2017-05-26 13:39:58,447 - qanta.buzzer.trainer - INFO - eval loss: nan  acc: 0.61  \n",
      "2017-05-26 13:39:58,461 - qanta.buzzer.trainer - INFO - epoch 11\n",
      "2017-05-26 13:40:45,519 - qanta.buzzer.trainer - INFO - train loss: nan  acc: 0.55  \n",
      "2017-05-26 13:40:53,162 - qanta.buzzer.trainer - INFO - eval loss: nan  acc: 0.61  \n",
      "2017-05-26 13:40:53,175 - qanta.buzzer.trainer - INFO - epoch 12\n",
      "2017-05-26 13:41:49,485 - qanta.buzzer.trainer - INFO - train loss: nan  acc: 0.55  \n",
      "2017-05-26 13:42:04,996 - qanta.buzzer.trainer - INFO - eval loss: nan  acc: 0.61  \n",
      "2017-05-26 13:42:05,010 - qanta.buzzer.trainer - INFO - epoch 13\n",
      "2017-05-26 13:42:38,190 - qanta.buzzer.trainer - INFO - train loss: nan  acc: 0.55  \n",
      "2017-05-26 13:42:49,217 - qanta.buzzer.trainer - INFO - eval loss: nan  acc: 0.61  \n",
      "2017-05-26 13:42:49,227 - qanta.buzzer.trainer - INFO - epoch 14\n",
      "2017-05-26 13:43:20,695 - qanta.buzzer.trainer - INFO - train loss: nan  acc: 0.55  \n",
      "2017-05-26 13:43:38,453 - qanta.buzzer.trainer - INFO - eval loss: nan  acc: 0.61  \n",
      "2017-05-26 13:43:38,466 - qanta.buzzer.trainer - INFO - epoch 15\n",
      "2017-05-26 13:44:12,905 - qanta.buzzer.trainer - INFO - train loss: nan  acc: 0.55  \n",
      "2017-05-26 13:44:18,066 - qanta.buzzer.trainer - INFO - eval loss: nan  acc: 0.61  \n",
      "2017-05-26 13:44:18,076 - qanta.buzzer.trainer - INFO - epoch 16\n",
      "2017-05-26 13:44:42,034 - qanta.buzzer.trainer - INFO - train loss: nan  acc: 0.55  \n",
      "2017-05-26 13:44:50,615 - qanta.buzzer.trainer - INFO - eval loss: nan  acc: 0.61  \n",
      "2017-05-26 13:44:50,626 - qanta.buzzer.trainer - INFO - epoch 17\n",
      "2017-05-26 13:45:33,054 - qanta.buzzer.trainer - INFO - train loss: nan  acc: 0.55  \n",
      "2017-05-26 13:45:46,215 - qanta.buzzer.trainer - INFO - eval loss: nan  acc: 0.61  \n",
      "2017-05-26 13:45:46,227 - qanta.buzzer.trainer - INFO - epoch 18\n",
      "2017-05-26 13:46:36,038 - qanta.buzzer.trainer - INFO - train loss: nan  acc: 0.55  \n",
      "2017-05-26 13:46:46,441 - qanta.buzzer.trainer - INFO - eval loss: nan  acc: 0.61  \n",
      "2017-05-26 13:46:46,453 - qanta.buzzer.trainer - INFO - epoch 19\n",
      "2017-05-26 13:47:21,608 - qanta.buzzer.trainer - INFO - train loss: nan  acc: 0.55  \n",
      "2017-05-26 13:47:26,764 - qanta.buzzer.trainer - INFO - eval loss: nan  acc: 0.61  \n",
      "2017-05-26 13:47:26,774 - qanta.buzzer.trainer - INFO - epoch 20\n",
      "2017-05-26 13:48:04,414 - qanta.buzzer.trainer - INFO - train loss: nan  acc: 0.55  \n",
      "2017-05-26 13:48:09,575 - qanta.buzzer.trainer - INFO - eval loss: nan  acc: 0.61  \n",
      "2017-05-26 13:48:09,588 - qanta.buzzer.trainer - INFO - epoch 21\n",
      "2017-05-26 13:48:51,297 - qanta.buzzer.trainer - INFO - train loss: nan  acc: 0.55  \n",
      "2017-05-26 13:48:58,286 - qanta.buzzer.trainer - INFO - eval loss: nan  acc: 0.61  \n",
      "2017-05-26 13:48:58,298 - qanta.buzzer.trainer - INFO - epoch 22\n",
      "2017-05-26 13:49:38,014 - qanta.buzzer.trainer - INFO - train loss: nan  acc: 0.55  \n",
      "2017-05-26 13:49:45,903 - qanta.buzzer.trainer - INFO - eval loss: nan  acc: 0.61  \n",
      "2017-05-26 13:49:45,914 - qanta.buzzer.trainer - INFO - epoch 23\n",
      "2017-05-26 13:50:31,968 - qanta.buzzer.trainer - INFO - train loss: nan  acc: 0.55  \n",
      "2017-05-26 13:50:37,120 - qanta.buzzer.trainer - INFO - eval loss: nan  acc: 0.61  \n",
      "2017-05-26 13:50:37,129 - qanta.buzzer.trainer - INFO - epoch 24\n",
      "2017-05-26 13:51:10,158 - qanta.buzzer.trainer - INFO - train loss: nan  acc: 0.55  \n",
      "2017-05-26 13:51:15,311 - qanta.buzzer.trainer - INFO - eval loss: nan  acc: 0.61  \n",
      "2017-05-26 13:51:30,421 - __main__ - INFO - buzzerdev buzzes generated. Size 7587.\n",
      "2017-05-26 13:51:30,570 - __main__ - INFO - Buzzes saved to output/buzzer/buzzerdev_buzzes_rnn.200.pkl.\n",
      "2017-05-26 13:51:36,797 - __main__ - INFO - dev buzzes generated. Size 2089.\n",
      "2017-05-26 13:51:36,853 - __main__ - INFO - Buzzes saved to output/buzzer/dev_buzzes_rnn.200.pkl.\n",
      "2017-05-26 13:51:38,821 - __main__ - INFO - test buzzes generated. Size 1412.\n",
      "2017-05-26 13:51:38,855 - __main__ - INFO - Buzzes saved to output/buzzer/test_buzzes_rnn.200.pkl.\n",
      "2017-05-26 13:51:39,079 - __main__ - INFO - expo buzzes generated. Size 43.\n",
      "2017-05-26 13:51:39,081 - __main__ - INFO - Buzzes saved to output/buzzer/expo_buzzes_rnn.200.pkl.\n"
     ]
    },
    {
     "ename": "NameError",
     "evalue": "name 'buzzer2vwexpo' is not defined",
     "output_type": "error",
     "traceback": [
      "\u001b[0;31m---------------------------------------------------------------------------\u001b[0m",
      "\u001b[0;31mNameError\u001b[0m                                 Traceback (most recent call last)",
      "\u001b[0;32m<ipython-input-5-b9748c5c04e9>\u001b[0m in \u001b[0;36m<module>\u001b[0;34m()\u001b[0m\n\u001b[1;32m     22\u001b[0m         \u001b[0;32mif\u001b[0m \u001b[0mfold\u001b[0m \u001b[0;34m==\u001b[0m \u001b[0;34m'expo'\u001b[0m\u001b[0;34m:\u001b[0m\u001b[0;34m\u001b[0m\u001b[0m\n\u001b[1;32m     23\u001b[0m             \u001b[0mguesses_df\u001b[0m \u001b[0;34m=\u001b[0m \u001b[0mAbstractGuesser\u001b[0m\u001b[0;34m.\u001b[0m\u001b[0mload_guesses\u001b[0m\u001b[0;34m(\u001b[0m\u001b[0mbc\u001b[0m\u001b[0;34m.\u001b[0m\u001b[0mGUESSES_DIR\u001b[0m\u001b[0;34m,\u001b[0m \u001b[0mfolds\u001b[0m\u001b[0;34m=\u001b[0m\u001b[0;34m[\u001b[0m\u001b[0mfold\u001b[0m\u001b[0;34m]\u001b[0m\u001b[0;34m)\u001b[0m\u001b[0;34m\u001b[0m\u001b[0m\n\u001b[0;32m---> 24\u001b[0;31m             \u001b[0mbuzzer2vwexpo\u001b[0m\u001b[0;34m(\u001b[0m\u001b[0mguesses_df\u001b[0m\u001b[0;34m,\u001b[0m \u001b[0mbuzzes\u001b[0m\u001b[0;34m,\u001b[0m \u001b[0mfold\u001b[0m\u001b[0;34m)\u001b[0m\u001b[0;34m\u001b[0m\u001b[0m\n\u001b[0m",
      "\u001b[0;31mNameError\u001b[0m: name 'buzzer2vwexpo' is not defined"
     ]
    }
   ],
   "source": [
    "for n_hidden in [200, 400]:\n",
    "    cfg = configs.rnn()\n",
    "    cfg.n_hidden = n_hidden\n",
    "    cfg.model_name = 'rnn.{}'.format(n_hidden, 'dense_vector_1')\n",
    "    cfg.model_dir = 'output/buzzer/{}.npz'.format(cfg.model_name)\n",
    "\n",
    "    model = RNN(iterators[c.BUZZER_TRAIN_FOLD].n_input, cfg.n_hidden, N_GUESSERS + 1)\n",
    "    chainer.cuda.get_device(0).use()\n",
    "    model.to_gpu(0)\n",
    "\n",
    "    trainer = Trainer(model, cfg.model_dir)\n",
    "    trainer.run(iterators[c.BUZZER_TRAIN_FOLD], iterators[c.BUZZER_DEV_FOLD], 25)\n",
    "\n",
    "    for fold in c.BUZZER_GENERATION_FOLDS:\n",
    "        test_iter = iterators[fold]\n",
    "        buzzes = trainer.test(test_iter)\n",
    "        log.info('{0} buzzes generated. Size {1}.'.format(fold, len(buzzes)))\n",
    "        buzzes_dir = bc.BUZZES_DIR.format(fold, cfg.model_name)\n",
    "        with open(buzzes_dir, 'wb') as outfile:\n",
    "            pickle.dump(buzzes, outfile)\n",
    "        log.info('Buzzes saved to {0}.'.format(buzzes_dir))\n",
    "        if fold == 'expo':\n",
    "            guesses_df = AbstractGuesser.load_guesses(bc.GUESSES_DIR, folds=[fold])\n",
    "            buzzer2vwexpo(guesses_df, buzzes, fold)"
   ]
  },
  {
   "cell_type": "code",
   "execution_count": null,
   "metadata": {
    "collapsed": true
   },
   "outputs": [],
   "source": []
  },
  {
   "cell_type": "code",
   "execution_count": null,
   "metadata": {
    "collapsed": false
   },
   "outputs": [],
   "source": [
    "option2id, all_guesses = load_quizbowl(['expo'], normalize=True)\n",
    "iterators = dict()\n",
    "iterators['expo'] = QuestionIterator(all_guesses['expo'], option2id,\n",
    "    batch_size=128, make_vector=old_dense_vector )"
   ]
  },
  {
   "cell_type": "code",
   "execution_count": null,
   "metadata": {
    "collapsed": false
   },
   "outputs": [],
   "source": [
    "iterators['expo'].n_input"
   ]
  },
  {
   "cell_type": "code",
   "execution_count": null,
   "metadata": {
    "collapsed": false
   },
   "outputs": [],
   "source": [
    "from qanta.buzzer.interface import buzzer2vwexpo\n",
    "\n",
    "n_hidden = 100\n",
    "cfg = configs.rnn()\n",
    "cfg.n_hidden = n_hidden\n",
    "cfg.model_name = 'rnn_{}'.format(n_hidden)\n",
    "cfg.model_dir = 'output/buzzer/{}.npz'.format(cfg.model_name)\n",
    "\n",
    "model = RNN(iterators['expo'].n_input, cfg.n_hidden, N_GUESSERS + 1)\n",
    "chainer.cuda.get_device(0).use()\n",
    "model.to_gpu(0)\n",
    "\n",
    "log.info('Loading model {0}'.format(cfg.model_dir))\n",
    "chainer.serializers.load_npz(cfg.model_dir, model)\n",
    "\n",
    "trainer = Trainer(model, cfg.model_dir)\n",
    "\n",
    "fold = 'expo'\n",
    "\n",
    "test_iter = iterators[fold]\n",
    "buzzes = trainer.test(test_iter)\n",
    "log.info('{0} buzzes generated. Size {1}.'.format(fold, len(buzzes)))\n",
    "buzzes_dir = bc.BUZZES_DIR.format(fold, cfg.model_name)\n",
    "with open(buzzes_dir, 'wb') as outfile:\n",
    "    pickle.dump(buzzes, outfile)\n",
    "log.info('Buzzes saved to {0}.'.format(buzzes_dir))\n",
    "\n",
    "guesses_df = AbstractGuesser.load_guesses(bc.GUESSES_DIR, folds=[fold])\n",
    "buzzer2vwexpo(guesses_df, buzzes, fold)"
   ]
  }
 ],
 "metadata": {
  "kernelspec": {
   "display_name": "Python 3",
   "language": "python",
   "name": "python3"
  },
  "language_info": {
   "codemirror_mode": {
    "name": "ipython",
    "version": 3
   },
   "file_extension": ".py",
   "mimetype": "text/x-python",
   "name": "python",
   "nbconvert_exporter": "python",
   "pygments_lexer": "ipython3",
   "version": "3.6.0"
  }
 },
 "nbformat": 4,
 "nbformat_minor": 2
}
