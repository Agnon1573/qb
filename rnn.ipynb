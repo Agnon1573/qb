{
 "cells": [
  {
   "cell_type": "code",
   "execution_count": 3,
   "metadata": {
    "collapsed": false
   },
   "outputs": [],
   "source": [
    "import os\n",
    "import os\n",
    "import sys\n",
    "import random\n",
    "import numpy as np\n",
    "import argparse\n",
    "import chainer\n",
    "import pickle\n",
    "from typing import List, Dict, Tuple, Optional\n",
    "\n",
    "from qanta import logging\n",
    "from qanta.config import conf\n",
    "from qanta.guesser.abstract import AbstractGuesser\n",
    "\n",
    "from qanta.buzzer import configs\n",
    "from qanta.buzzer.progress import ProgressBar\n",
    "from qanta.buzzer.trainer import Trainer\n",
    "from qanta.buzzer.iterator import QuestionIterator\n",
    "from qanta.buzzer.util import load_quizbowl, GUESSERS\n",
    "from qanta.buzzer.models import MLP, RNN\n",
    "from qanta.buzzer import constants as bc\n",
    "from qanta.util import constants as c\n",
    "\n",
    "\n",
    "log = logging.get(__name__)\n",
    "\n",
    "N_GUESSERS = len(GUESSERS)\n",
    "N_GUESSES = conf['buzzer']['n_guesses']"
   ]
  },
  {
   "cell_type": "code",
   "execution_count": 9,
   "metadata": {
    "collapsed": false
   },
   "outputs": [
    {
     "name": "stderr",
     "output_type": "stream",
     "text": [
      "2017-05-26 02:06:19,269 - qanta.buzzer.util - INFO - Merging guesser DataFrames.\n",
      "2017-05-26 02:06:19,271 - qanta.buzzer.util - INFO - Merged buzzertrain exists, skipping.\n",
      "2017-05-26 02:06:19,272 - qanta.buzzer.util - INFO - Merged buzzerdev exists, skipping.\n",
      "2017-05-26 02:06:19,273 - qanta.buzzer.util - INFO - Merged dev exists, skipping.\n",
      "2017-05-26 02:06:19,274 - qanta.buzzer.util - INFO - Merged test exists, skipping.\n",
      "2017-05-26 02:06:19,274 - qanta.buzzer.util - INFO - Merged expo exists, skipping.\n",
      "2017-05-26 02:06:19,275 - qanta.buzzer.util - INFO - Loading data\n",
      "2017-05-26 02:06:19,276 - qanta.datasets.quiz_bowl - WARNING - Using QuizBowlDataset with guesser and buzzer training data, make sure you know what you are doing!\n",
      "2017-05-26 02:06:26,631 - qanta.buzzer.util - INFO - Number of options 8247\n",
      "2017-05-26 02:06:46,684 - qanta.buzzer.util - INFO - Loading buzzertrain guesses\n",
      "2017-05-26 02:06:49,779 - qanta.buzzer.util - INFO - Loading buzzerdev guesses\n",
      "2017-05-26 02:06:50,894 - qanta.buzzer.util - INFO - Loading dev guesses\n",
      "2017-05-26 02:06:51,484 - qanta.buzzer.util - INFO - Loading test guesses\n",
      "2017-05-26 02:06:51,506 - qanta.buzzer.util - INFO - Loading expo guesses\n",
      "2017-05-26 02:06:53,502 - qanta.buzzer.iterator - INFO - Creating batches\n",
      "[creat batches] (1) done: 23210/23211\n",
      "2017-05-26 02:11:04,449 - qanta.buzzer.iterator - INFO - Finish creating batches\n",
      "2017-05-26 02:11:04,450 - qanta.buzzer.iterator - INFO - Creating batches\n",
      "[creat batches] (1) done: 7586/7587\n",
      "2017-05-26 02:12:22,338 - qanta.buzzer.iterator - INFO - Finish creating batches\n",
      "2017-05-26 02:12:22,339 - qanta.buzzer.iterator - INFO - Creating batches\n",
      "[creat batches] (1) done: 2088/2089\n",
      "2017-05-26 02:12:48,587 - qanta.buzzer.iterator - INFO - Finish creating batches\n",
      "2017-05-26 02:12:48,588 - qanta.buzzer.iterator - INFO - Creating batches\n",
      "[creat batches] (1) done: 1411/1412\n",
      "2017-05-26 02:13:03,664 - qanta.buzzer.iterator - INFO - Finish creating batches\n",
      "2017-05-26 02:13:03,665 - qanta.buzzer.iterator - INFO - Creating batches\n",
      "[creat batches] (1) done: 68/69\n",
      "2017-05-26 02:13:04,103 - qanta.buzzer.iterator - INFO - Finish creating batches\n"
     ]
    }
   ],
   "source": [
    "def dense_vector(dicts: List[List[Dict[str, float]]],\n",
    "        wordvecs: List[List[np.ndarray]], step_size=1) -> List[List[float]]:\n",
    "\n",
    "    length = len(dicts)\n",
    "    prev_vec = [0.02 for _ in range(N_GUESSERS * N_GUESSES)]\n",
    "    vecs = []\n",
    "    for i in range(length):\n",
    "        if len(dicts[i]) != N_GUESSERS:\n",
    "            raise ValueError(\"Inconsistent number of guessers ({0}, {1}).\".format(\n",
    "                N_GUESSERS, len(dicts)))\n",
    "        vec = []\n",
    "        diff_vec = []\n",
    "        isnew_vec = []\n",
    "        for j in range(N_GUESSERS):\n",
    "            dic = sorted(dicts[i][j].items(), key=lambda x: x[1], reverse=True)\n",
    "            for guess, score in dic:\n",
    "                vec.append(score)\n",
    "                if i > 0 and guess in dicts[i-1][j]:\n",
    "                    diff_vec.append(score - dicts[i-1][j][guess])\n",
    "                    isnew_vec.append(0)\n",
    "                else:\n",
    "                    diff_vec.append(score) \n",
    "                    isnew_vec.append(1)\n",
    "            if len(dic) < N_GUESSES:\n",
    "                for k in range(max(N_GUESSES - len(dic), 0)):\n",
    "                    vec.append(0)\n",
    "                    diff_vec.append(0)\n",
    "                    isnew_vec.append(0)\n",
    "        features = [vec[0], vec[1], vec[2],\n",
    "                    np.average(vec[:10]), np.average(prev_vec[:10]),\n",
    "                    np.var(vec[:10]), np.var(prev_vec[:10]),\n",
    "                    sum(isnew_vec[:10]),\n",
    "                    isnew_vec[0], isnew_vec[1], isnew_vec[2],\n",
    "                    diff_vec[0], diff_vec[1]\n",
    "                    vec[0] - vec[1], vec[1] - vec[2], \n",
    "                    vec[0] / vec[1], vec[0] / prev_vec[0],\n",
    "                    vec[0] - prev_vec[0], vec[1] - prev_vec[1]\n",
    "                    ]\n",
    "\n",
    "        vecs.append(features)\n",
    "        prev_vec = vec\n",
    "    return vecs\n",
    "\n",
    "option2id, all_guesses = load_quizbowl()\n",
    "iterators = dict()\n",
    "for fold in c.BUZZER_INPUT_FOLDS:\n",
    "    iterators[fold] = QuestionIterator(all_guesses[fold], option2id,\n",
    "        batch_size=128, make_vector=dense_vector)"
   ]
  },
  {
   "cell_type": "code",
   "execution_count": 17,
   "metadata": {
    "collapsed": false
   },
   "outputs": [
    {
     "name": "stderr",
     "output_type": "stream",
     "text": [
      "2017-05-26 05:11:41,438 - qanta.buzzer.iterator - INFO - Creating batches\n",
      "[creat batches] (1) done: 23210/23211\n",
      "2017-05-26 05:16:14,828 - qanta.buzzer.iterator - INFO - Finish creating batches\n",
      "2017-05-26 05:16:14,829 - qanta.buzzer.iterator - INFO - Creating batches\n",
      "[creat batches] (1) done: 7586/7587\n",
      "2017-05-26 05:17:43,460 - qanta.buzzer.iterator - INFO - Finish creating batches\n",
      "2017-05-26 05:17:43,461 - qanta.buzzer.iterator - INFO - Creating batches\n",
      "[creat batches] (1) done: 2088/2089\n",
      "2017-05-26 05:18:12,804 - qanta.buzzer.iterator - INFO - Finish creating batches\n",
      "2017-05-26 05:18:12,805 - qanta.buzzer.iterator - INFO - Creating batches\n",
      "[creat batches] (1) done: 1411/1412\n",
      "2017-05-26 05:18:31,469 - qanta.buzzer.iterator - INFO - Finish creating batches\n",
      "2017-05-26 05:18:31,470 - qanta.buzzer.iterator - INFO - Creating batches\n",
      "[creat batches] (1) done: 68/69\n",
      "2017-05-26 05:18:31,916 - qanta.buzzer.iterator - INFO - Finish creating batches\n"
     ]
    }
   ],
   "source": [
    "iterators1 = dict()\n",
    "for fold in c.BUZZER_INPUT_FOLDS:\n",
    "    iterators1[fold] = QuestionIterator(all_guesses[fold], option2id,\n",
    "        batch_size=128)"
   ]
  },
  {
   "cell_type": "code",
   "execution_count": null,
   "metadata": {
    "collapsed": false
   },
   "outputs": [
    {
     "name": "stderr",
     "output_type": "stream",
     "text": [
      "2017-05-26 07:53:27,317 - qanta.buzzer.trainer - INFO - epoch 0\n",
      "2017-05-26 07:54:21,886 - qanta.buzzer.trainer - INFO - train loss: 0.00  acc: 0.69  \n",
      "2017-05-26 07:54:30,650 - qanta.buzzer.trainer - INFO - eval loss: 0.01  acc: 0.73  \n",
      "2017-05-26 07:54:30,687 - qanta.buzzer.trainer - INFO - epoch 1\n",
      "2017-05-26 07:55:03,062 - qanta.buzzer.trainer - INFO - train loss: 0.00  acc: 0.75  \n",
      "2017-05-26 07:55:12,785 - qanta.buzzer.trainer - INFO - eval loss: 0.01  acc: 0.81  \n",
      "2017-05-26 07:55:12,823 - qanta.buzzer.trainer - INFO - epoch 2\n",
      "2017-05-26 07:55:50,902 - qanta.buzzer.trainer - INFO - train loss: 0.00  acc: 0.81  \n",
      "2017-05-26 07:56:18,343 - qanta.buzzer.trainer - INFO - eval loss: 0.01  acc: 0.82  \n",
      "2017-05-26 07:56:18,378 - qanta.buzzer.trainer - INFO - epoch 3\n",
      "2017-05-26 07:57:09,812 - qanta.buzzer.trainer - INFO - train loss: 0.00  acc: 0.82  \n",
      "2017-05-26 07:57:15,060 - qanta.buzzer.trainer - INFO - eval loss: 0.00  acc: 0.82  \n",
      "2017-05-26 07:57:15,097 - qanta.buzzer.trainer - INFO - epoch 4\n",
      "2017-05-26 07:57:59,531 - qanta.buzzer.trainer - INFO - train loss: 0.00  acc: 0.83  \n",
      "2017-05-26 07:58:09,315 - qanta.buzzer.trainer - INFO - eval loss: 0.01  acc: 0.82  \n",
      "2017-05-26 07:58:09,349 - qanta.buzzer.trainer - INFO - epoch 5\n",
      "2017-05-26 07:58:50,224 - qanta.buzzer.trainer - INFO - train loss: 0.00  acc: 0.84  \n",
      "2017-05-26 07:58:55,457 - qanta.buzzer.trainer - INFO - eval loss: 0.00  acc: 0.83  \n",
      "2017-05-26 07:58:55,495 - qanta.buzzer.trainer - INFO - epoch 6\n",
      "2017-05-26 07:59:38,363 - qanta.buzzer.trainer - INFO - train loss: 0.00  acc: 0.84  \n",
      "2017-05-26 07:59:51,733 - qanta.buzzer.trainer - INFO - eval loss: 0.01  acc: 0.83  \n",
      "2017-05-26 07:59:51,769 - qanta.buzzer.trainer - INFO - epoch 7\n",
      "2017-05-26 08:00:28,436 - qanta.buzzer.trainer - INFO - train loss: 0.00  acc: 0.84  \n",
      "2017-05-26 08:00:33,655 - qanta.buzzer.trainer - INFO - eval loss: 0.00  acc: 0.84  \n",
      "2017-05-26 08:00:33,693 - qanta.buzzer.trainer - INFO - epoch 8\n",
      "2017-05-26 08:01:39,612 - qanta.buzzer.trainer - INFO - train loss: 0.00  acc: 0.84  \n",
      "2017-05-26 08:01:44,845 - qanta.buzzer.trainer - INFO - eval loss: 0.00  acc: 0.84  \n",
      "2017-05-26 08:01:44,882 - qanta.buzzer.trainer - INFO - epoch 9\n",
      "2017-05-26 08:02:15,579 - qanta.buzzer.trainer - INFO - train loss: 0.00  acc: 0.84  \n",
      "2017-05-26 08:02:25,671 - qanta.buzzer.trainer - INFO - eval loss: 0.00  acc: 0.84  \n",
      "2017-05-26 08:02:25,707 - qanta.buzzer.trainer - INFO - epoch 10\n",
      "2017-05-26 08:03:16,596 - qanta.buzzer.trainer - INFO - train loss: 0.00  acc: 0.85  \n",
      "2017-05-26 08:03:24,355 - qanta.buzzer.trainer - INFO - eval loss: 0.00  acc: 0.84  \n",
      "2017-05-26 08:03:24,394 - qanta.buzzer.trainer - INFO - epoch 11\n",
      "2017-05-26 08:03:57,524 - qanta.buzzer.trainer - INFO - train loss: 0.00  acc: 0.85  \n",
      "2017-05-26 08:04:08,116 - qanta.buzzer.trainer - INFO - eval loss: 0.00  acc: 0.84  \n",
      "2017-05-26 08:04:08,161 - qanta.buzzer.trainer - INFO - epoch 12\n",
      "2017-05-26 08:04:43,081 - qanta.buzzer.trainer - INFO - train loss: 0.00  acc: 0.85  \n",
      "2017-05-26 08:04:53,710 - qanta.buzzer.trainer - INFO - eval loss: 0.00  acc: 0.84  \n",
      "2017-05-26 08:04:53,747 - qanta.buzzer.trainer - INFO - epoch 13\n",
      "2017-05-26 08:05:28,594 - qanta.buzzer.trainer - INFO - train loss: 0.00  acc: 0.85  \n",
      "2017-05-26 08:05:33,826 - qanta.buzzer.trainer - INFO - eval loss: 0.00  acc: 0.84  \n",
      "2017-05-26 08:05:33,861 - qanta.buzzer.trainer - INFO - epoch 14\n"
     ]
    }
   ],
   "source": [
    "for n_hidden in [200]:\n",
    "    cfg = configs.rnn()\n",
    "    cfg.n_hidden = n_hidden\n",
    "    cfg.model_name = 'rnn_1_{}'.format(n_hidden)\n",
    "    cfg.model_dir = 'output/buzzer/{}.npz'.format(cfg.model_name)\n",
    "\n",
    "    model = RNN(iterators1[c.BUZZER_TRAIN_FOLD].n_input, cfg.n_hidden, N_GUESSERS + 1)\n",
    "    chainer.cuda.get_device(0).use()\n",
    "    model.to_gpu(0)\n",
    "\n",
    "    trainer = Trainer(model, cfg.model_dir)\n",
    "    trainer.run(iterators1[c.BUZZER_TRAIN_FOLD], iterators1[c.BUZZER_DEV_FOLD], 25)\n",
    "\n",
    "    for fold in c.BUZZER_GENERATION_FOLDS:\n",
    "        test_iter = iterators1[fold]\n",
    "        buzzes = trainer.test(test_iter)\n",
    "        log.info('{0} buzzes generated. Size {1}.'.format(fold, len(buzzes)))\n",
    "        buzzes_dir = bc.BUZZES_DIR.format(fold, cfg.model_name)\n",
    "        with open(buzzes_dir, 'wb') as outfile:\n",
    "            pickle.dump(buzzes, outfile)\n",
    "        log.info('Buzzes saved to {0}.'.format(buzzes_dir))"
   ]
  }
 ],
 "metadata": {
  "kernelspec": {
   "display_name": "Python 3",
   "language": "python",
   "name": "python3"
  },
  "language_info": {
   "codemirror_mode": {
    "name": "ipython",
    "version": 3
   },
   "file_extension": ".py",
   "mimetype": "text/x-python",
   "name": "python",
   "nbconvert_exporter": "python",
   "pygments_lexer": "ipython3",
   "version": "3.6.0"
  }
 },
 "nbformat": 4,
 "nbformat_minor": 2
}
