{
 "cells": [
  {
   "cell_type": "code",
   "execution_count": 15,
   "metadata": {
    "collapsed": false
   },
   "outputs": [],
   "source": [
    "%matplotlib inline\n",
    "from qanta.guesser.wikipedia import *\n",
    "from functional import seq\n",
    "import glob\n",
    "import numpy as np\n",
    "import matplotlib.pyplot as plt\n",
    "import seaborn as sb"
   ]
  },
  {
   "cell_type": "code",
   "execution_count": 4,
   "metadata": {
    "collapsed": false
   },
   "outputs": [],
   "source": [
    "wiki = WikiNetworkGuesser()"
   ]
  },
  {
   "cell_type": "code",
   "execution_count": 5,
   "metadata": {
    "collapsed": true
   },
   "outputs": [],
   "source": [
    "db = QuestionDatabase(QB_QUESTION_DB)"
   ]
  },
  {
   "cell_type": "markdown",
   "metadata": {},
   "source": [
    "Since deep learning does well for questions with many examples, lets only consider questions that have one training example. These would be the most difficult to get correct using traditional learning methods and multi class classification"
   ]
  },
  {
   "cell_type": "code",
   "execution_count": 6,
   "metadata": {
    "collapsed": true
   },
   "outputs": [],
   "source": [
    "qs = db.questions_with_pages()\n",
    "qs = seq(qs.values()).filter(lambda x: len(x) == 1).flatten().list()"
   ]
  },
  {
   "cell_type": "code",
   "execution_count": 7,
   "metadata": {
    "collapsed": false
   },
   "outputs": [
    {
     "name": "stdout",
     "output_type": "stream",
     "text": [
      "Starting iteration 0\n",
      "Starting iteration 1\n",
      "Starting iteration 2\n",
      "Starting iteration 3\n",
      "Starting iteration 4\n",
      "No wiki entry for: battle_of_panipat_(1761)\n",
      "Starting iteration 5\n",
      "Starting iteration 6\n",
      "No wiki entry for: 18_(number)\n",
      "Starting iteration 7\n",
      "No wiki entry for: united_states_presidential_election,_1824\n",
      "Starting iteration 8\n",
      "No wiki entry for: 1830s\n",
      "Starting iteration 9\n",
      "No wiki entry for: emancipation_reform_of_1861\n",
      "Starting iteration 10\n",
      "Starting iteration 11\n",
      "No wiki entry for: 1929\n",
      "Starting iteration 12\n",
      "No wiki entry for: 1968_democratic_national_convention\n",
      "Starting iteration 13\n",
      "No wiki entry for: 1993_world_trade_center_bombing\n",
      "Starting iteration 14\n",
      "No wiki entry for: james_scott,_1st_duke_of_monmouth\n",
      "Starting iteration 15\n",
      "Starting iteration 16\n",
      "No wiki entry for: 25_(number)\n",
      "Starting iteration 17\n",
      "Starting iteration 18\n",
      "No wiki entry for: 32_(number)\n",
      "Starting iteration 19\n",
      "No wiki entry for: 360_(number)\n",
      "Starting iteration 20\n",
      "No wiki entry for: 4_months,_3_weeks_and_2_days\n",
      "Starting iteration 21\n",
      "No wiki entry for: the_42nd_parallel\n",
      "Starting iteration 22\n",
      "No wiki entry for: 50_cent\n",
      "Starting iteration 23\n",
      "No wiki entry for: 54th_regiment_massachusetts_volunteer_infantry\n",
      "Starting iteration 24\n",
      "No wiki entry for: 52_(number)\n",
      "Starting iteration 25\n",
      "No wiki entry for: 8½\n",
      "Starting iteration 26\n",
      "Starting iteration 27\n",
      "No wiki entry for: affair_of_the_spanish_marriages\n",
      "Starting iteration 28\n",
      "Starting iteration 29\n",
      "Starting iteration 30\n",
      "Starting iteration 31\n",
      "Starting iteration 32\n",
      "Starting iteration 33\n",
      "Starting iteration 34\n",
      "No wiki entry for: history_of_the_republic_of_egypt\n",
      "Starting iteration 35\n",
      "No wiki entry for: arlington_county,_virginia\n",
      "Starting iteration 36\n",
      "Starting iteration 37\n",
      "No wiki entry for: neo-assyrian_empire\n",
      "Starting iteration 38\n",
      "Starting iteration 39\n",
      "No wiki entry for: atlas_(mythology)\n",
      "Starting iteration 40\n",
      "Starting iteration 41\n",
      "Starting iteration 42\n",
      "Starting iteration 43\n",
      "Starting iteration 44\n",
      "No wiki entry for: badlands_(film)\n",
      "Starting iteration 45\n",
      "Starting iteration 46\n",
      "Starting iteration 47\n",
      "Starting iteration 48\n",
      "Starting iteration 49\n",
      "Starting iteration 50\n",
      "Starting iteration 51\n",
      "Starting iteration 52\n",
      "Starting iteration 53\n",
      "Starting iteration 54\n",
      "Starting iteration 55\n",
      "Starting iteration 56\n",
      "No wiki entry for: corruption_charges_against_benazir_bhutto_and_asif_ali_zardari\n",
      "Starting iteration 57\n",
      "Starting iteration 58\n",
      "No wiki entry for: bernard_madoff\n",
      "Starting iteration 59\n",
      "Starting iteration 60\n",
      "Starting iteration 61\n",
      "Starting iteration 62\n",
      "No wiki entry for: bunga_bunga\n",
      "Starting iteration 63\n",
      "Starting iteration 64\n",
      "Starting iteration 65\n",
      "Starting iteration 66\n",
      "Starting iteration 67\n",
      "Starting iteration 68\n",
      "Starting iteration 69\n",
      "Starting iteration 70\n",
      "Starting iteration 71\n",
      "Starting iteration 72\n",
      "Starting iteration 73\n",
      "Starting iteration 74\n",
      "No wiki entry for: cherokee_nation_(19th_century)\n",
      "Starting iteration 75\n",
      "Starting iteration 76\n",
      "Starting iteration 77\n",
      "No wiki entry for: conservative_party_(uk)\n",
      "Starting iteration 78\n",
      "Starting iteration 79\n",
      "Starting iteration 80\n",
      "Starting iteration 81\n",
      "Starting iteration 82\n",
      "Starting iteration 83\n",
      "Starting iteration 84\n",
      "Starting iteration 85\n",
      "No wiki entry for: dennis_v._united_states\n",
      "Starting iteration 86\n",
      "Starting iteration 87\n",
      "Starting iteration 88\n",
      "Starting iteration 89\n",
      "Starting iteration 90\n",
      "Starting iteration 91\n",
      "Starting iteration 92\n",
      "Starting iteration 93\n",
      "Starting iteration 94\n",
      "Starting iteration 95\n",
      "Starting iteration 96\n",
      "Starting iteration 97\n",
      "Starting iteration 98\n",
      "No wiki entry for: everson_v._board_of_education\n",
      "Starting iteration 99\n"
     ]
    }
   ],
   "source": [
    "for i, q in enumerate(qs[0:100]):\n",
    "    print('Starting iteration {}'.format(i))\n",
    "    words = wiki.tokenize(q.flatten_text())\n",
    "    sub_graph, seed_vertexes = wiki.build_subgraph(words)\n",
    "    wiki.node2vec_input(q.page.lower().replace(' ', '_'), sub_graph, 'output/wiki_network')"
   ]
  },
  {
   "cell_type": "markdown",
   "metadata": {},
   "source": [
    "From here I want to find out how many of these 100 sampled questions can be answered. Since each subgraph takes the seed vertexes, walks out one, then takes the largest connected component its possible the answer does not exist. The node file has a label 1 on vertexes that correspond to the answer and 0 otherwise so we can use this. It would also be nice to have an idea of the network size"
   ]
  },
  {
   "cell_type": "code",
   "execution_count": 9,
   "metadata": {
    "collapsed": false
   },
   "outputs": [
    {
     "name": "stdout",
     "output_type": "stream",
     "text": [
      "132073_edges.txt  391088_meta.txt   65962_edges.txt   784810_meta.txt\r\n",
      "132073_meta.txt   43994_edges.txt   65962_meta.txt    83713_edges.txt\r\n",
      "145161_edges.txt  43994_meta.txt    66212_edges.txt   83713_meta.txt\r\n",
      "145161_meta.txt   441922_edges.txt  66212_meta.txt    850650_edges.txt\r\n",
      "146942_edges.txt  441922_meta.txt   675413_edges.txt  850650_meta.txt\r\n",
      "146942_meta.txt   443213_edges.txt  675413_meta.txt   851804_edges.txt\r\n",
      "157002_edges.txt  443213_meta.txt   689748_edges.txt  851804_meta.txt\r\n",
      "157002_meta.txt   458026_edges.txt  689748_meta.txt   858949_edges.txt\r\n",
      "162551_edges.txt  458026_meta.txt   699743_edges.txt  858949_meta.txt\r\n",
      "162551_meta.txt   465148_edges.txt  699743_meta.txt   878407_edges.txt\r\n",
      "162564_edges.txt  465148_meta.txt   699776_edges.txt  878407_meta.txt\r\n",
      "162564_meta.txt   466690_edges.txt  699776_meta.txt   886428_edges.txt\r\n",
      "181364_edges.txt  466690_meta.txt   703031_edges.txt  886428_meta.txt\r\n",
      "181364_meta.txt   4956_edges.txt    703031_meta.txt   896789_edges.txt\r\n",
      "242259_edges.txt  4956_meta.txt     713203_edges.txt  896789_meta.txt\r\n",
      "242259_meta.txt   507211_edges.txt  713203_meta.txt   898353_edges.txt\r\n",
      "251692_edges.txt  507211_meta.txt   740345_edges.txt  898353_meta.txt\r\n",
      "251692_meta.txt   529223_edges.txt  740345_meta.txt   913667_edges.txt\r\n",
      "252619_edges.txt  529223_meta.txt   752453_edges.txt  913667_meta.txt\r\n",
      "252619_meta.txt   541100_edges.txt  752453_meta.txt   934519_edges.txt\r\n",
      "307134_edges.txt  541100_meta.txt   75469_edges.txt   934519_meta.txt\r\n",
      "307134_meta.txt   545331_edges.txt  75469_meta.txt    938533_edges.txt\r\n",
      "316300_edges.txt  545331_meta.txt   762453_edges.txt  938533_meta.txt\r\n",
      "316300_meta.txt   589798_edges.txt  762453_meta.txt   95854_edges.txt\r\n",
      "348869_edges.txt  589798_meta.txt   766084_edges.txt  95854_meta.txt\r\n",
      "348869_meta.txt   635743_edges.txt  766084_meta.txt   959923_edges.txt\r\n",
      "349929_edges.txt  635743_meta.txt   770272_edges.txt  959923_meta.txt\r\n",
      "349929_meta.txt   636292_edges.txt  770272_meta.txt   965106_edges.txt\r\n",
      "363863_edges.txt  636292_meta.txt   773152_edges.txt  965106_meta.txt\r\n",
      "363863_meta.txt   63879_edges.txt   773152_meta.txt   986280_edges.txt\r\n",
      "36696_edges.txt   63879_meta.txt    776690_edges.txt  986280_meta.txt\r\n",
      "36696_meta.txt\t  646967_edges.txt  776690_meta.txt   995993_edges.txt\r\n",
      "385457_edges.txt  646967_meta.txt   784300_edges.txt  995993_meta.txt\r\n",
      "385457_meta.txt   651102_edges.txt  784300_meta.txt\r\n",
      "391088_edges.txt  651102_meta.txt   784810_edges.txt\r\n"
     ]
    }
   ],
   "source": [
    "!ls output/wiki_network"
   ]
  },
  {
   "cell_type": "code",
   "execution_count": 10,
   "metadata": {
    "collapsed": false
   },
   "outputs": [
    {
     "name": "stdout",
     "output_type": "stream",
     "text": [
      "0 4521985 seltjarnarnes\r\n",
      "0 3276803 maulvi_bazar_district\r\n",
      "0 2359300 immenstaad\r\n",
      "0 1835013 free_content\r\n",
      "0 2359302 immenstadt\r\n",
      "0 4063240 private_secretary_to_the_sovereign\r\n",
      "0 4915209 taray_district\r\n",
      "0 2359306 immenstedt\r\n",
      "0 841047 byczyna\r\n",
      "0 3276812 maulvibazar_sadar_upazila\r\n"
     ]
    }
   ],
   "source": [
    "!head output/wiki_network/385457_meta.txt"
   ]
  },
  {
   "cell_type": "code",
   "execution_count": 21,
   "metadata": {
    "collapsed": true
   },
   "outputs": [],
   "source": [
    "n_total = 0\n",
    "n_possible = 0\n",
    "network_sizes = []\n",
    "possible_networks = []\n",
    "for file_name in glob.glob('output/wiki_network/*_meta.txt'):\n",
    "    with open(file_name) as f:\n",
    "        size = 0\n",
    "        for line in f:\n",
    "            if line.startswith('1'):\n",
    "                n_possible +=1\n",
    "                possible_networks.append(file_name)\n",
    "            size += 1\n",
    "        \n",
    "        network_sizes.append(size)\n",
    "        n_total += 1\n",
    "network_sizes = np.array(network_sizes)"
   ]
  },
  {
   "cell_type": "code",
   "execution_count": 20,
   "metadata": {
    "collapsed": false
   },
   "outputs": [
    {
     "name": "stdout",
     "output_type": "stream",
     "text": [
      "Total: 69\n",
      "Possible: 40\n",
      "Fraction: 0.5797101449275363\n",
      "Network Size Stats\n",
      "Mean: 33204.4782609\n",
      "Median: 27974.0\n",
      "Std: 21275.56321\n"
     ]
    },
    {
     "data": {
      "image/png": "[encoded data removed]",
      "text/plain": [
       "<matplotlib.figure.Figure at 0x7f6a42588550>"
      ]
     },
     "metadata": {},
     "output_type": "display_data"
    }
   ],
   "source": [
    "print('Total:', n_total)\n",
    "print('Possible:', n_possible)\n",
    "print('Fraction:', n_possible / n_total)\n",
    "print('Network Size Stats')\n",
    "print('Mean:', np.mean(network_sizes))\n",
    "print('Median:', np.median(network_sizes))\n",
    "print('Std:', np.std(network_sizes))\n",
    "\n",
    "histogram = plt.hist(network_sizes, bins=20)"
   ]
  },
  {
   "cell_type": "markdown",
   "metadata": {},
   "source": [
    "This is good news that about 60% of questions have networks where there are answers. Lets now use node2vec to featurize the networks that do have the answer"
   ]
  },
  {
   "cell_type": "code",
   "execution_count": 24,
   "metadata": {
    "collapsed": false
   },
   "outputs": [
    {
     "data": {
      "text/plain": [
       "['output/wiki_network/773152_meta.txt',\n",
       " 'output/wiki_network/251692_meta.txt',\n",
       " 'output/wiki_network/162564_meta.txt',\n",
       " 'output/wiki_network/466690_meta.txt',\n",
       " 'output/wiki_network/36696_meta.txt',\n",
       " 'output/wiki_network/986280_meta.txt',\n",
       " 'output/wiki_network/898353_meta.txt',\n",
       " 'output/wiki_network/965106_meta.txt',\n",
       " 'output/wiki_network/762453_meta.txt',\n",
       " 'output/wiki_network/776690_meta.txt',\n",
       " 'output/wiki_network/465148_meta.txt',\n",
       " 'output/wiki_network/589798_meta.txt',\n",
       " 'output/wiki_network/157002_meta.txt',\n",
       " 'output/wiki_network/740345_meta.txt',\n",
       " 'output/wiki_network/878407_meta.txt',\n",
       " 'output/wiki_network/316300_meta.txt',\n",
       " 'output/wiki_network/75469_meta.txt',\n",
       " 'output/wiki_network/635743_meta.txt',\n",
       " 'output/wiki_network/959923_meta.txt',\n",
       " 'output/wiki_network/752453_meta.txt',\n",
       " 'output/wiki_network/363863_meta.txt',\n",
       " 'output/wiki_network/541100_meta.txt',\n",
       " 'output/wiki_network/95854_meta.txt',\n",
       " 'output/wiki_network/242259_meta.txt',\n",
       " 'output/wiki_network/766084_meta.txt',\n",
       " 'output/wiki_network/913667_meta.txt',\n",
       " 'output/wiki_network/646967_meta.txt',\n",
       " 'output/wiki_network/146942_meta.txt',\n",
       " 'output/wiki_network/65962_meta.txt',\n",
       " 'output/wiki_network/545331_meta.txt',\n",
       " 'output/wiki_network/995993_meta.txt',\n",
       " 'output/wiki_network/851804_meta.txt',\n",
       " 'output/wiki_network/529223_meta.txt',\n",
       " 'output/wiki_network/651102_meta.txt',\n",
       " 'output/wiki_network/896789_meta.txt',\n",
       " 'output/wiki_network/181364_meta.txt',\n",
       " 'output/wiki_network/66212_meta.txt',\n",
       " 'output/wiki_network/43994_meta.txt',\n",
       " 'output/wiki_network/83713_meta.txt',\n",
       " 'output/wiki_network/699776_meta.txt']"
      ]
     },
     "execution_count": 24,
     "metadata": {},
     "output_type": "execute_result"
    }
   ],
   "source": [
    "possible_networks"
   ]
  },
  {
   "cell_type": "code",
   "execution_count": null,
   "metadata": {
    "collapsed": true
   },
   "outputs": [],
   "source": []
  }
 ],
 "metadata": {
  "kernelspec": {
   "display_name": "Python 3",
   "language": "python",
   "name": "python3"
  },
  "language_info": {
   "codemirror_mode": {
    "name": "ipython",
    "version": 3
   },
   "file_extension": ".py",
   "mimetype": "text/x-python",
   "name": "python",
   "nbconvert_exporter": "python",
   "pygments_lexer": "ipython3",
   "version": "3.5.1"
  }
 },
 "nbformat": 4,
 "nbformat_minor": 0
}
