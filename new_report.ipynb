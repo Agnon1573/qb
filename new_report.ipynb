{
 "cells": [
  {
   "cell_type": "code",
   "execution_count": 1,
   "metadata": {
    "collapsed": false,
    "scrolled": false
   },
   "outputs": [
    {
     "name": "stderr",
     "output_type": "stream",
     "text": [
      "/home/airsplay/anaconda3/lib/python3.6/site-packages/matplotlib/__init__.py:1405: UserWarning: \n",
      "This call to matplotlib.use() has no effect because the backend has already\n",
      "been chosen; matplotlib.use() must be called *before* pylab, matplotlib.pyplot,\n",
      "or matplotlib.backends is imported for the first time.\n",
      "\n",
      "  warnings.warn(_use_error_msg)\n",
      "/home/airsplay/anaconda3/lib/python3.6/site-packages/sklearn/cross_validation.py:44: DeprecationWarning: This module was deprecated in version 0.18 in favor of the model_selection module into which all the refactored classes and functions are moved. Also note that the interface of the new CV iterators are different from that of this module. This module will be removed in 0.20.\n",
      "  \"This module will be removed in 0.20.\", DeprecationWarning)\n"
     ]
    }
   ],
   "source": [
    "%matplotlib inline\n",
    "import os\n",
    "import pickle\n",
    "import argparse\n",
    "import numpy as np\n",
    "from itertools import cycle\n",
    "from collections import defaultdict\n",
    "from functools import partial\n",
    "from typing import List, Dict, Tuple\n",
    "\n",
    "from qanta.guesser.abstract import AbstractGuesser\n",
    "from qanta.datasets.quiz_bowl import QuestionDatabase\n",
    "from qanta.util import constants as c\n",
    "from qanta.buzzer import constants as bc\n",
    "from qanta import logging\n",
    "from qanta.buzzer.util import GUESSERS, load_protobowl\n",
    "from qanta.reporting.report_generator import ReportGenerator\n",
    "from qanta.util.multiprocess import _multiprocess"
   ]
  },
  {
   "cell_type": "code",
   "execution_count": 2,
   "metadata": {
    "collapsed": false
   },
   "outputs": [
    {
     "name": "stderr",
     "output_type": "stream",
     "text": [
      "/home/airsplay/anaconda3/lib/python3.6/site-packages/matplotlib/__init__.py:1405: UserWarning: \n",
      "This call to matplotlib.use() has no effect because the backend has already\n",
      "been chosen; matplotlib.use() must be called *before* pylab, matplotlib.pyplot,\n",
      "or matplotlib.backends is imported for the first time.\n",
      "\n",
      "  warnings.warn(_use_error_msg)\n"
     ]
    }
   ],
   "source": [
    "from qanta.reporting.new_performance import get_his_stats, get_protobowl, _get_top_guesses"
   ]
  },
  {
   "cell_type": "code",
   "execution_count": 3,
   "metadata": {
    "collapsed": false
   },
   "outputs": [
    {
     "name": "stderr",
     "output_type": "stream",
     "text": [
      "[Top guesses] (16) done: 7587/7587\n",
      "[Top guesses] (16) done: 2089/2089\n",
      "[Top guesses] (16) done: 1412/1412\n",
      "[Top guesses] (16) done: 67/69\n"
     ]
    }
   ],
   "source": [
    "all_questions = QuestionDatabase().all_questions()\n",
    "answers = {k: v.page for k, v in all_questions.items()}\n",
    "question_texts = {k: v.text for k, v in all_questions.items()}\n",
    "protobowl_ids = {k: all_questions[k].protobowl \n",
    "    for k in all_questions if all_questions[k].protobowl != ''}\n",
    "protobowl_df = load_protobowl().groupby('qid')\n",
    "\n",
    "guesses_df_folds = dict()\n",
    "top_guesses_folds = dict()\n",
    "for fold in c.BUZZER_GENERATION_FOLDS:\n",
    "    guesses_df_folds[fold] = AbstractGuesser.load_guesses(\n",
    "            bc.GUESSES_DIR, folds=[fold])\n",
    "    questions = guesses_df_folds[fold].groupby('qnum')\n",
    "    top_guesses_folds[fold] = _multiprocess(_get_top_guesses, questions, \n",
    "            info='Top guesses', multi=True)\n",
    "    top_guesses_folds[fold] = {k: v for k, v in top_guesses_folds[fold]}"
   ]
  },
  {
   "cell_type": "code",
   "execution_count": 4,
   "metadata": {
    "collapsed": true
   },
   "outputs": [],
   "source": [
    "def plot(fold, model_name, protobowldf, save_dir=None):\n",
    "    questions = guesses_df_folds[fold].groupby('qnum')\n",
    "\n",
    "    buzzes_dir = bc.BUZZES_DIR.format(fold, model_name)\n",
    "    with open(buzzes_dir, 'rb') as infile:\n",
    "        buzzes = pickle.load(infile)\n",
    "        \n",
    "    inputs = [top_guesses_folds[fold], buzzes, answers, None, fold, save_dir]\n",
    "\n",
    "    # get_his_stats(*inputs)\n",
    "    p_inputs = [question_texts, protobowl_ids, protobowldf, questions] + inputs\n",
    "    stats = get_protobowl(p_inputs)\n",
    "    return stats"
   ]
  },
  {
   "cell_type": "code",
   "execution_count": 7,
   "metadata": {
    "collapsed": false
   },
   "outputs": [],
   "source": [
    "import importlib\n",
    "from qanta.buzzer import util\n",
    "importlib.reload(util)\n",
    "protobowl_df, user_count = util.load_protobowl()"
   ]
  },
  {
   "cell_type": "code",
   "execution_count": 8,
   "metadata": {
    "collapsed": false
   },
   "outputs": [
    {
     "name": "stdout",
     "output_type": "stream",
     "text": [
      "rnn_10 1\n"
     ]
    },
    {
     "name": "stderr",
     "output_type": "stream",
     "text": [
      "/home/airsplay/anaconda3/lib/python3.6/site-packages/matplotlib/font_manager.py:1297: UserWarning: findfont: Font family ['sans-serif'] not found. Falling back to DejaVu Sans\n",
      "  (prop.get_family(), self.defaultFamily[fontext]))\n"
     ]
    },
    {
     "name": "stdout",
     "output_type": "stream",
     "text": [
      "rnn_10 5\n",
      "rnn_10 10\n",
      "rnn_10 50\n",
      "rnn_10 100\n",
      "rnn_10 200\n",
      "rnn_10 500\n",
      "rnn_10 1000\n",
      "rnn_10 2000\n",
      "rnn_25 1\n",
      "rnn_25 5\n",
      "rnn_25 10\n",
      "rnn_25 50\n",
      "rnn_25 100\n",
      "rnn_25 200\n",
      "rnn_25 500\n",
      "rnn_25 1000\n",
      "rnn_25 2000\n",
      "rnn_50 1\n",
      "rnn_50 5\n",
      "rnn_50 10\n",
      "rnn_50 50\n",
      "rnn_50 100\n",
      "rnn_50 200\n",
      "rnn_50 500\n",
      "rnn_50 1000\n",
      "rnn_50 2000\n",
      "rnn_100 1\n",
      "rnn_100 5\n",
      "rnn_100 10\n",
      "rnn_100 50\n",
      "rnn_100 100\n",
      "rnn_100 200\n",
      "rnn_100 500\n",
      "rnn_100 1000\n",
      "rnn_100 2000\n",
      "rnn_200 1\n",
      "rnn_200 5\n",
      "rnn_200 10\n",
      "rnn_200 50\n",
      "rnn_200 100\n",
      "rnn_200 200\n",
      "rnn_200 500\n",
      "rnn_200 1000\n",
      "rnn_200 2000\n"
     ]
    },
    {
     "data": {
      "text/plain": [
       "<matplotlib.figure.Figure at 0x7f7230ce4898>"
      ]
     },
     "metadata": {},
     "output_type": "display_data"
    }
   ],
   "source": [
    "from collections import defaultdict\n",
    "model_names = ['rnn_10', 'rnn_25', 'rnn_50', 'rnn_100', 'rnn_200']\n",
    "user_answers_thresholds = [1,5,10,50,100,200,500,1000,2000]\n",
    "new_stats = {k: [] for k in model_names}\n",
    "for model_name in model_names:\n",
    "    for threshold in user_answers_thresholds:\n",
    "        print(model_name, threshold)\n",
    "        pdf1 = protobowl_df[protobowl_df.user_answers > threshold]\n",
    "        pstats = plot('buzzerdev', model_name, pdf1.groupby('qid'), save_dir='output/summary/new_performance/')\n",
    "        new_stats[model_name].append(pstats)"
   ]
  },
  {
   "cell_type": "code",
   "execution_count": 17,
   "metadata": {
    "collapsed": false
   },
   "outputs": [
    {
     "data": {
      "text/plain": [
       "<matplotlib.legend.Legend at 0x7f7234f9f128>"
      ]
     },
     "execution_count": 17,
     "metadata": {},
     "output_type": "execute_result"
    },
    {
     "name": "stderr",
     "output_type": "stream",
     "text": [
      "/home/airsplay/anaconda3/lib/python3.6/site-packages/matplotlib/font_manager.py:1297: UserWarning: findfont: Font family ['sans-serif'] not found. Falling back to DejaVu Sans\n",
      "  (prop.get_family(), self.defaultFamily[fontext]))\n"
     ]
    },
    {
     "data": {
      "image/png": "[encoded data removed]",
      "text/plain": [
       "<matplotlib.figure.Figure at 0x7f7234f94710>"
      ]
     },
     "metadata": {},
     "output_type": "display_data"
    }
   ],
   "source": [
    "num_users = len(user_count)\n",
    "def user_percentage(threshold):\n",
    "    good_users = [k for k, v in user_count.items() if v >= threshold]\n",
    "    return len(good_users) / num_users\n",
    "\n",
    "from matplotlib import pyplot as plt\n",
    "plt.clf()\n",
    "for model_name in model_names:\n",
    "    rewards = [x['reward'] for x in new_stats[model_name]]\n",
    "    plt.plot(rewards, label=model_name)\n",
    "xticks = ['{0}\\n{1:.2f}%'.format(t, user_percentage(t)*100) for t in user_answers_thresholds]\n",
    "plt.xticks(list(range(len(xticks))), xticks)\n",
    "plt.legend()"
   ]
  },
  {
   "cell_type": "code",
   "execution_count": 20,
   "metadata": {
    "collapsed": false
   },
   "outputs": [
    {
     "name": "stderr",
     "output_type": "stream",
     "text": [
      "[buzzer2vwexpo] (16) done: 69/69\n",
      "2017-05-26 05:40:25,983 - qanta.buzzer.interface - INFO - \n",
      "\n",
      "[buzzer2vwexpo] writing to files\n",
      "2017-05-26 05:40:26,113 - qanta.buzzer.interface - INFO - buzz file written\n",
      "2017-05-26 05:40:26,115 - qanta.buzzer.interface - INFO - final file written\n",
      "2017-05-26 05:40:26,217 - qanta.buzzer.interface - INFO - vw_pred file written\n",
      "2017-05-26 05:40:26,271 - qanta.buzzer.interface - INFO - vw_meta file written\n"
     ]
    }
   ],
   "source": [
    "from qanta.buzzer.interface import buzzer2vwexpo\n",
    "\n",
    "expo_buzzes_dir = bc.BUZZES_DIR.format('expo', 'rnn_200')\n",
    "with open(expo_buzzes_dir, 'rb') as infile:\n",
    "    expo_buzzes = pickle.load(infile)\n",
    "expo_guesses_df = AbstractGuesser.load_guesses(bc.GUESSES_DIR, folds=['expo'])\n",
    "buzzer2vwexpo(expo_guesses_df, expo_buzzes, 'expo')"
   ]
  }
 ],
 "metadata": {
  "kernelspec": {
   "display_name": "Python 3",
   "language": "python",
   "name": "python3"
  },
  "language_info": {
   "codemirror_mode": {
    "name": "ipython",
    "version": 3
   },
   "file_extension": ".py",
   "mimetype": "text/x-python",
   "name": "python",
   "nbconvert_exporter": "python",
   "pygments_lexer": "ipython3",
   "version": "3.6.0"
  }
 },
 "nbformat": 4,
 "nbformat_minor": 2
}
