{
 "cells": [
  {
   "cell_type": "code",
   "execution_count": 4,
   "metadata": {
    "collapsed": true
   },
   "outputs": [],
   "source": [
    "import math\n",
    "from functools import partial\n",
    "from elasticsearch_dsl.connections import connections\n",
    "from qanta.guesser.abstract import AbstractGuesser\n",
    "from qanta.guesser.experimental.elasticsearch_instance_of import ElasticSearchWikidataGuesser\n",
    "from qanta.datasets.quiz_bowl import QuizBowlDataset"
   ]
  },
  {
   "cell_type": "code",
   "execution_count": 5,
   "metadata": {
    "collapsed": false
   },
   "outputs": [
    {
     "name": "stderr",
     "output_type": "stream",
     "text": [
      "2017-07-02 21:25:36,503 - qanta.datasets.quiz_bowl - WARNING - Using QuizBowlDataset with guesser and buzzer training data, make sure you know what you are doing!\n"
     ]
    }
   ],
   "source": [
    "connections.create_connection(hosts=['localhost'])\n",
    "gspec = AbstractGuesser.list_enabled_guessers()[0]\n",
    "guesser_dir = AbstractGuesser.output_path(gspec.guesser_module,\n",
    "        gspec.guesser_class, '')\n",
    "guesser = ElasticSearchWikidataGuesser.load(guesser_dir)\n",
    "db = QuizBowlDataset(1, guesser_train=True, buzzer_train=True)\n",
    "questions = db.questions_in_folds(['guessdev'])"
   ]
  },
  {
   "cell_type": "code",
   "execution_count": 6,
   "metadata": {
    "collapsed": true
   },
   "outputs": [],
   "source": [
    "def kl(dict1, dict2):\n",
    "    def normalize(d):\n",
    "        s = sum(d.values())\n",
    "        for k, v in d.items():\n",
    "            d[k] = v / s\n",
    "        return d\n",
    "\n",
    "    x1 = normalize(dict1)\n",
    "    x2 = normalize(dict2)\n",
    "    nil_value = min(x2.values())\n",
    "    score = 0\n",
    "    for k in x1.keys():\n",
    "        score += x1[k] * math.log(x1[k] / x2.get(k, nil_value))\n",
    "    return score\n",
    "\n",
    "def drop(question, dict1, i):\n",
    "    '''Get the divergence between dict1 and question with ith word dropped'''\n",
    "    if isinstance(question, str):\n",
    "        question = question.split()\n",
    "    question = ' '.join(question[:i] + question[i+1:])\n",
    "    dict2 = dict(guesser.guess_single(question))\n",
    "    return kl(dict1, dict2)\n",
    "\n",
    "def greedy_drop(question, n):\n",
    "    '''Drop n words from the question.'''\n",
    "    if isinstance(question, str):\n",
    "        question = question.split()\n",
    "    assert n < len(question)\n",
    "    dropped = []\n",
    "    indices = list(range(len(question)))\n",
    "    dict1 = dict(guesser.guess_single(' '.join(question)))\n",
    "    for i in range(n):\n",
    "        worker = partial(drop, question, dict1)\n",
    "        scores = [worker(j) for j in range(len(question))]\n",
    "        bext = sorted(list(enumerate(scores)), key=lambda x: x[1])[0][0]\n",
    "        dropped.append(indices[bext])\n",
    "        question = question[:bext] + question[bext + 1:]\n",
    "        indices = indices[:bext] + indices[bext + 1:]\n",
    "    return question, dropped"
   ]
  },
  {
   "cell_type": "code",
   "execution_count": 19,
   "metadata": {
    "collapsed": false
   },
   "outputs": [
    {
     "name": "stdout",
     "output_type": "stream",
     "text": [
      "Pardoned at the urging of Jaime Nebot in 1990, Abdala Bucara, former mayor of Guyaquil, defeated the latter in July (*) Presidential elections in--for 10 points--what Andean nation of twelve million bordering Peru and Colombia with a capital Quito?\n",
      "\n",
      "1990, defeated Presidential elections Andean nation Peru Colombia capital Quito?\n",
      "\n",
      "['Nebot', 'Bucara,', 'Guyaquil,', '(*)', 'a', 'in', 'in', 'and', 'with', 'the', 'Abdala', 'the', 'of', 'of', 'of', 'in--for', 'at', 'July', 'points--what', 'urging', 'former', '10', 'mayor', 'latter', 'Pardoned', 'twelve', 'million', 'Jaime', 'bordering']\n",
      "\n",
      "[('Ecuador', 1.650645128205128), ('Bolivia', 1.2395446923076925), ('Peru', 1.2148188205128205), ('Panama', 1.1031594871794872), ('Inca_Empire', 0.9085789743589743), ('Chile', 0.8578690769230769), ('Guinea', 0.8022850256410257), ('Nicaragua', 0.7745476153846154), ('El_Salvador', 0.7693789743589744), ('Venezuela', 0.7571482564102564)]\n",
      "\n",
      "[('Ecuador', 4.7798244), ('Peru', 3.8017757000000003), ('Bolivia', 3.2822850000000003), ('Panama', 2.8909603), ('Inca_Empire', 2.7664412), ('Chile', 2.4700048), ('Venezuela', 2.3596027), ('Kuwait', 2.272001), ('Nicaragua', 2.2643465), ('Latvia', 2.2230585)]\n"
     ]
    }
   ],
   "source": [
    "before = ' '.join(list(questions[200].text.values())).split()\n",
    "after, dropped = greedy_drop(before, len(before) - 10)\n",
    "\n",
    "print(' '.join(before))\n",
    "print()\n",
    "print(' '.join(after))\n",
    "print()\n",
    "print([before[x] for x in dropped])\n",
    "print()\n",
    "print(guesser.guess_single(' '.join(before)))\n",
    "print()\n",
    "print(guesser.guess_single(' '.join(after)))"
   ]
  }
 ],
 "metadata": {
  "kernelspec": {
   "display_name": "Python 3",
   "language": "python",
   "name": "python3"
  },
  "language_info": {
   "codemirror_mode": {
    "name": "ipython",
    "version": 3
   },
   "file_extension": ".py",
   "mimetype": "text/x-python",
   "name": "python",
   "nbconvert_exporter": "python",
   "pygments_lexer": "ipython3",
   "version": "3.6.0"
  }
 },
 "nbformat": 4,
 "nbformat_minor": 2
}
