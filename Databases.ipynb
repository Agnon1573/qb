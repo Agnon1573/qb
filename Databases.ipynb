{
 "cells": [
  {
   "cell_type": "code",
   "execution_count": 7,
   "metadata": {},
   "outputs": [
    {
     "name": "stdout",
     "output_type": "stream",
     "text": [
      "The sql extension is already loaded. To reload it, use:\n",
      "  %reload_ext sql\n"
     ]
    }
   ],
   "source": [
    "%load_ext sql\n",
    "import os\n",
    "\n",
    "curr_dir = os.getcwd()\n",
    "guesses_path = os.path.join(curr_dir, \"data/guesses.db\")\n",
    "questions_path = os.path.join(curr_dir, \"data/questions.db\")"
   ]
  },
  {
   "cell_type": "code",
   "execution_count": 14,
   "metadata": {},
   "outputs": [
    {
     "data": {
      "text/plain": [
       "'Connected: None@data/guesses.db'"
      ]
     },
     "execution_count": 14,
     "output_type": "execute_result",
     "metadata": {}
    }
   ],
   "source": [
    "%sql sqlite:///data/guesses.db"
   ]
  },
  {
   "cell_type": "code",
   "execution_count": 15,
   "metadata": {},
   "outputs": [
    {
     "name": "stdout",
     "output_type": "stream",
     "text": [
      "Done.\n"
     ]
    },
    {
     "data": {
      "text/html": [
       "<table>\n",
       "    <tr>\n",
       "        <th>cid</th>\n",
       "        <th>name</th>\n",
       "        <th>type</th>\n",
       "        <th>notnull</th>\n",
       "        <th>dflt_value</th>\n",
       "        <th>pk</th>\n",
       "    </tr>\n",
       "    <tr>\n",
       "        <td>0</td>\n",
       "        <td>fold</td>\n",
       "        <td>TEXT</td>\n",
       "        <td>0</td>\n",
       "        <td>None</td>\n",
       "        <td>1</td>\n",
       "    </tr>\n",
       "    <tr>\n",
       "        <td>1</td>\n",
       "        <td>question</td>\n",
       "        <td>INTEGER</td>\n",
       "        <td>0</td>\n",
       "        <td>None</td>\n",
       "        <td>2</td>\n",
       "    </tr>\n",
       "    <tr>\n",
       "        <td>2</td>\n",
       "        <td>sentence</td>\n",
       "        <td>INTEGER</td>\n",
       "        <td>0</td>\n",
       "        <td>None</td>\n",
       "        <td>3</td>\n",
       "    </tr>\n",
       "    <tr>\n",
       "        <td>3</td>\n",
       "        <td>token</td>\n",
       "        <td>INTEGER</td>\n",
       "        <td>0</td>\n",
       "        <td>None</td>\n",
       "        <td>4</td>\n",
       "    </tr>\n",
       "    <tr>\n",
       "        <td>4</td>\n",
       "        <td>page</td>\n",
       "        <td>TEXT</td>\n",
       "        <td>0</td>\n",
       "        <td>None</td>\n",
       "        <td>5</td>\n",
       "    </tr>\n",
       "    <tr>\n",
       "        <td>5</td>\n",
       "        <td>guesser</td>\n",
       "        <td>TEXT</td>\n",
       "        <td>0</td>\n",
       "        <td>None</td>\n",
       "        <td>6</td>\n",
       "    </tr>\n",
       "    <tr>\n",
       "        <td>6</td>\n",
       "        <td>feature</td>\n",
       "        <td>TEXT</td>\n",
       "        <td>0</td>\n",
       "        <td>None</td>\n",
       "        <td>7</td>\n",
       "    </tr>\n",
       "    <tr>\n",
       "        <td>7</td>\n",
       "        <td>score</td>\n",
       "        <td>NUMERIC</td>\n",
       "        <td>0</td>\n",
       "        <td>None</td>\n",
       "        <td>0</td>\n",
       "    </tr>\n",
       "</table>"
      ]
     },
     "output_type": "execute_result",
     "metadata": {}
    }
   ],
   "source": [
    "%sql PRAGMA table_info(\"guesses\")"
   ]
  },
  {
   "cell_type": "code",
   "execution_count": 16,
   "metadata": {},
   "outputs": [
    {
     "name": "stdout",
     "output_type": "stream",
     "text": [
      "Done.\n"
     ]
    },
    {
     "data": {
      "text/html": [
       "<table>\n",
       "    <tr>\n",
       "        <th>fold</th>\n",
       "        <th>question</th>\n",
       "        <th>sentence</th>\n",
       "        <th>token</th>\n",
       "        <th>page</th>\n",
       "        <th>guesser</th>\n",
       "        <th>feature</th>\n",
       "        <th>score</th>\n",
       "    </tr>\n",
       "    <tr>\n",
       "        <td>dev</td>\n",
       "        <td>4580</td>\n",
       "        <td>3</td>\n",
       "        <td>0</td>\n",
       "        <td>Mark Twain</td>\n",
       "        <td>deep</td>\n",
       "        <td>0</td>\n",
       "        <td>2.224870997939481e-05</td>\n",
       "    </tr>\n",
       "    <tr>\n",
       "        <td>dev</td>\n",
       "        <td>4580</td>\n",
       "        <td>3</td>\n",
       "        <td>0</td>\n",
       "        <td>Paul Cézanne</td>\n",
       "        <td>deep</td>\n",
       "        <td>0</td>\n",
       "        <td>4.790591485569423e-08</td>\n",
       "    </tr>\n",
       "    <tr>\n",
       "        <td>dev</td>\n",
       "        <td>4580</td>\n",
       "        <td>3</td>\n",
       "        <td>0</td>\n",
       "        <td>Thomas Pynchon</td>\n",
       "        <td>deep</td>\n",
       "        <td>0</td>\n",
       "        <td>1.6371029634165385e-07</td>\n",
       "    </tr>\n",
       "    <tr>\n",
       "        <td>dev</td>\n",
       "        <td>4580</td>\n",
       "        <td>3</td>\n",
       "        <td>0</td>\n",
       "        <td>We (novel)</td>\n",
       "        <td>deep</td>\n",
       "        <td>0</td>\n",
       "        <td>7.051264373232002e-06</td>\n",
       "    </tr>\n",
       "    <tr>\n",
       "        <td>dev</td>\n",
       "        <td>4580</td>\n",
       "        <td>3</td>\n",
       "        <td>0</td>\n",
       "        <td>Duino Elegies</td>\n",
       "        <td>deep</td>\n",
       "        <td>0</td>\n",
       "        <td>0.00016152867014854771</td>\n",
       "    </tr>\n",
       "</table>"
      ]
     },
     "output_type": "execute_result",
     "metadata": {}
    }
   ],
   "source": [
    "%sql SELECT * FROM \"guesses\" LIMIT 5"
   ]
  },
  {
   "cell_type": "code",
   "execution_count": 17,
   "metadata": {},
   "outputs": [
    {
     "data": {
      "text/plain": [
       "'Connected: None@data/questions.db'"
      ]
     },
     "execution_count": 17,
     "output_type": "execute_result",
     "metadata": {}
    }
   ],
   "source": [
    "%sql sqlite:///data/questions.db"
   ]
  },
  {
   "cell_type": "code",
   "execution_count": 18,
   "metadata": {},
   "outputs": [
    {
     "name": "stdout",
     "output_type": "stream",
     "text": [
      "Done.\n"
     ]
    },
    {
     "data": {
      "text/html": [
       "<table>\n",
       "    <tr>\n",
       "        <th>cid</th>\n",
       "        <th>name</th>\n",
       "        <th>type</th>\n",
       "        <th>notnull</th>\n",
       "        <th>dflt_value</th>\n",
       "        <th>pk</th>\n",
       "    </tr>\n",
       "    <tr>\n",
       "        <td>0</td>\n",
       "        <td>id</td>\n",
       "        <td>integer</td>\n",
       "        <td>0</td>\n",
       "        <td>None</td>\n",
       "        <td>1</td>\n",
       "    </tr>\n",
       "    <tr>\n",
       "        <td>1</td>\n",
       "        <td>category</td>\n",
       "        <td>text</td>\n",
       "        <td>0</td>\n",
       "        <td>None</td>\n",
       "        <td>0</td>\n",
       "    </tr>\n",
       "    <tr>\n",
       "        <td>2</td>\n",
       "        <td>page</td>\n",
       "        <td>text</td>\n",
       "        <td>0</td>\n",
       "        <td>None</td>\n",
       "        <td>0</td>\n",
       "    </tr>\n",
       "    <tr>\n",
       "        <td>3</td>\n",
       "        <td>answer</td>\n",
       "        <td>text</td>\n",
       "        <td>0</td>\n",
       "        <td>None</td>\n",
       "        <td>0</td>\n",
       "    </tr>\n",
       "    <tr>\n",
       "        <td>4</td>\n",
       "        <td>tournament</td>\n",
       "        <td>text</td>\n",
       "        <td>0</td>\n",
       "        <td>None</td>\n",
       "        <td>0</td>\n",
       "    </tr>\n",
       "    <tr>\n",
       "        <td>5</td>\n",
       "        <td>type</td>\n",
       "        <td>text</td>\n",
       "        <td>0</td>\n",
       "        <td>None</td>\n",
       "        <td>0</td>\n",
       "    </tr>\n",
       "    <tr>\n",
       "        <td>6</td>\n",
       "        <td>naqt</td>\n",
       "        <td>integer</td>\n",
       "        <td>0</td>\n",
       "        <td>None</td>\n",
       "        <td>0</td>\n",
       "    </tr>\n",
       "    <tr>\n",
       "        <td>7</td>\n",
       "        <td>fold</td>\n",
       "        <td>TEXT</td>\n",
       "        <td>0</td>\n",
       "        <td>None</td>\n",
       "        <td>0</td>\n",
       "    </tr>\n",
       "    <tr>\n",
       "        <td>8</td>\n",
       "        <td>gender</td>\n",
       "        <td>TEXT</td>\n",
       "        <td>0</td>\n",
       "        <td>unknown</td>\n",
       "        <td>0</td>\n",
       "    </tr>\n",
       "</table>"
      ]
     },
     "output_type": "execute_result",
     "metadata": {}
    }
   ],
   "source": [
    "%sql PRAGMA table_info(\"questions\")"
   ]
  },
  {
   "cell_type": "code",
   "execution_count": 19,
   "metadata": {},
   "outputs": [
    {
     "name": "stdout",
     "output_type": "stream",
     "text": [
      "Done.\n"
     ]
    },
    {
     "data": {
      "text/html": [
       "<table>\n",
       "    <tr>\n",
       "        <th>id</th>\n",
       "        <th>category</th>\n",
       "        <th>page</th>\n",
       "        <th>answer</th>\n",
       "        <th>tournament</th>\n",
       "        <th>type</th>\n",
       "        <th>naqt</th>\n",
       "        <th>fold</th>\n",
       "        <th>gender</th>\n",
       "    </tr>\n",
       "    <tr>\n",
       "        <td>1</td>\n",
       "        <td>Fine_Arts</td>\n",
       "        <td>Thomas Cole</td>\n",
       "        <td>thomas cole</td>\n",
       "        <td>1999 ACF Regionals</td>\n",
       "        <td>people</td>\n",
       "        <td>-1</td>\n",
       "        <td>train</td>\n",
       "        <td>male</td>\n",
       "    </tr>\n",
       "    <tr>\n",
       "        <td>2</td>\n",
       "        <td>Fine_Arts</td>\n",
       "        <td>Jean-Honore Fragonard</td>\n",
       "        <td>jeanhonore fragonard</td>\n",
       "        <td>1999 ACF Regionals</td>\n",
       "        <td>people</td>\n",
       "        <td>-1</td>\n",
       "        <td>dev</td>\n",
       "        <td>male</td>\n",
       "    </tr>\n",
       "    <tr>\n",
       "        <td>3</td>\n",
       "        <td>Fine_Arts</td>\n",
       "        <td>Holy Trinity (Masaccio)</td>\n",
       "        <td>holy trinity</td>\n",
       "        <td>1999 ACF Regionals</td>\n",
       "        <td>work</td>\n",
       "        <td>-1</td>\n",
       "        <td>train</td>\n",
       "        <td>non_person</td>\n",
       "    </tr>\n",
       "    <tr>\n",
       "        <td>4</td>\n",
       "        <td>Fine_Arts</td>\n",
       "        <td>Rococo</td>\n",
       "        <td>rococo</td>\n",
       "        <td>1999 ACF Regionals</td>\n",
       "        <td>work</td>\n",
       "        <td>-1</td>\n",
       "        <td>dev</td>\n",
       "        <td>non_person</td>\n",
       "    </tr>\n",
       "    <tr>\n",
       "        <td>5</td>\n",
       "        <td>Fine_Arts</td>\n",
       "        <td>The Swing (painting)</td>\n",
       "        <td>swing</td>\n",
       "        <td>1999 ACF Regionals</td>\n",
       "        <td>work</td>\n",
       "        <td>-1</td>\n",
       "        <td>train</td>\n",
       "        <td>non_person</td>\n",
       "    </tr>\n",
       "</table>"
      ]
     },
     "output_type": "execute_result",
     "metadata": {}
    }
   ],
   "source": [
    "%sql SELECT * FROM \"questions\" LIMIT 5"
   ]
  },
  {
   "cell_type": "code",
   "execution_count": null,
   "metadata": {},
   "outputs": [],
   "source": [
    ""
   ]
  }
 ],
 "metadata": {
  "kernelspec": {
   "display_name": "Python 3",
   "language": "python",
   "name": "python3"
  },
  "language_info": {
   "codemirror_mode": {
    "name": "ipython",
    "version": 3.0
   },
   "file_extension": ".py",
   "mimetype": "text/x-python",
   "name": "python",
   "nbconvert_exporter": "python",
   "pygments_lexer": "ipython3",
   "version": "3.5.0"
  }
 },
 "nbformat": 4,
 "nbformat_minor": 0
}